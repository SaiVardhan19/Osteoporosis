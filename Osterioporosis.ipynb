{
  "nbformat": 4,
  "nbformat_minor": 0,
  "metadata": {
    "colab": {
      "provenance": [],
      "collapsed_sections": [
        "LUz8pFaOO_OW",
        "FvugwzENO34i",
        "mgQFp-y8OREi"
      ],
      "authorship_tag": "ABX9TyNfVgcXCC9Srxh7eqgmnnug",
      "include_colab_link": true
    },
    "kernelspec": {
      "name": "python3",
      "display_name": "Python 3"
    },
    "language_info": {
      "name": "python"
    }
  },
  "cells": [
    {
      "cell_type": "markdown",
      "metadata": {
        "id": "view-in-github",
        "colab_type": "text"
      },
      "source": [
        "<a href=\"https://colab.research.google.com/github/SaiVardhan19/Osteoporosis/blob/main/Osterioporosis.ipynb\" target=\"_parent\"><img src=\"https://colab.research.google.com/assets/colab-badge.svg\" alt=\"Open In Colab\"/></a>"
      ]
    },
    {
      "cell_type": "markdown",
      "source": [
        "#Importing the Required Libraries"
      ],
      "metadata": {
        "id": "8FOBIKdkPEE-"
      }
    },
    {
      "cell_type": "code",
      "execution_count": 4,
      "metadata": {
        "id": "-YSpEOCFQVKC"
      },
      "outputs": [],
      "source": [
        "import pandas as pd\n",
        "import numpy as np\n",
        "from sklearn.model_selection import train_test_split,KFold\n",
        "from sklearn.preprocessing import StandardScaler, LabelEncoder\n",
        "from sklearn.metrics import accuracy_score, classification_report, confusion_matrix\n",
        "import tensorflow as tf\n",
        "from tensorflow.keras.models import Sequential\n",
        "from tensorflow.keras.layers import Dense, Dropout, BatchNormalization\n"
      ]
    },
    {
      "cell_type": "code",
      "source": [
        "from tensorflow.keras.callbacks import EarlyStopping\n",
        "from tensorflow.keras.regularizers import l2"
      ],
      "metadata": {
        "id": "iLYX3r_Kdrkk"
      },
      "execution_count": 5,
      "outputs": []
    },
    {
      "cell_type": "markdown",
      "source": [
        "#Data Preprocessing"
      ],
      "metadata": {
        "id": "LUz8pFaOO_OW"
      }
    },
    {
      "cell_type": "code",
      "source": [
        "df=pd.read_csv(\"/content/Osteo data.csv\")"
      ],
      "metadata": {
        "id": "SKYpk3DzQcuG"
      },
      "execution_count": 7,
      "outputs": []
    },
    {
      "cell_type": "code",
      "source": [
        "# Handle missing values\n",
        "# Filling missing values with the median of each column\n",
        "df.fillna(df.median(), inplace=True)"
      ],
      "metadata": {
        "id": "TuaFqVcyQ8PI"
      },
      "execution_count": 8,
      "outputs": []
    },
    {
      "cell_type": "code",
      "source": [
        "# Encodeing categorical features (like Smoking, Drinking)\n",
        "label_encoders = {}\n",
        "for column in ['Smoking', 'Drinking']:\n",
        "    if column in df.columns:\n",
        "        le = LabelEncoder()\n",
        "        df[column] = le.fit_transform(df[column])\n",
        "        label_encoders[column] = le\n"
      ],
      "metadata": {
        "id": "tZNscxaQRAVY"
      },
      "execution_count": 9,
      "outputs": []
    },
    {
      "cell_type": "code",
      "source": [
        "# Separate features (X) and target (y)\n",
        "X = df.drop(columns=['OP'])  # Drop the target column (Osteoporosis indicator)\n",
        "y = df['OP']  # Target variable\n"
      ],
      "metadata": {
        "id": "pFJim5J-RIQ9"
      },
      "execution_count": 10,
      "outputs": []
    },
    {
      "cell_type": "code",
      "source": [
        "# Split the dataset into training and testing sets (80% train, 20% test)\n",
        "X_train, X_test, y_train, y_test = train_test_split(X, y, test_size=0.2, random_state=42)"
      ],
      "metadata": {
        "id": "I6Mg3mv_UcLX"
      },
      "execution_count": 11,
      "outputs": []
    },
    {
      "cell_type": "code",
      "source": [
        "# Feature Scaling\n",
        "scaler = StandardScaler()\n",
        "X_train = scaler.fit_transform(X_train)\n",
        "X_test = scaler.transform(X_test)"
      ],
      "metadata": {
        "id": "8-tTUOKqRToZ"
      },
      "execution_count": 12,
      "outputs": []
    },
    {
      "cell_type": "code",
      "source": [
        "X_train.shape # Shape of the Training data(Rows,columns)"
      ],
      "metadata": {
        "colab": {
          "base_uri": "https://localhost:8080/"
        },
        "id": "YMCWe5qyVKrU",
        "outputId": "2bfc0de7-d13f-4bf4-a99e-2640d1d9c823"
      },
      "execution_count": 13,
      "outputs": [
        {
          "output_type": "execute_result",
          "data": {
            "text/plain": [
              "(1229, 39)"
            ]
          },
          "metadata": {},
          "execution_count": 13
        }
      ]
    },
    {
      "cell_type": "markdown",
      "source": [
        "## K-Fold\n",
        "\n"
      ],
      "metadata": {
        "id": "wtErrOoleO8S"
      }
    },
    {
      "cell_type": "code",
      "source": [
        "# 3-fold cross-validation where the data is shuffled before splitting into folds\n",
        "kf = KFold(n_splits=3, shuffle=True, random_state=42)\n",
        "\n",
        "for train_index, val_index in kf.split(X_train, y_train):\n",
        "    X_train_fold, X_val_fold = X_train[train_index], X_train[val_index]\n",
        "    y_train_fold, y_val_fold = y_train.iloc[train_index], y_train.iloc[val_index]\n"
      ],
      "metadata": {
        "id": "cEkGH29feOoR"
      },
      "execution_count": 14,
      "outputs": []
    },
    {
      "cell_type": "code",
      "source": [
        "# Build the Neural Network Model:\n",
        "# Input layer contains 128 neurons and we use L2 regularization to prevent overfitting\n",
        "# Batch normalization is used to stabilize training as it normalises the input component for each layer such that mean=0 and SD=1\n",
        "# Dropout prevents overfitting as it randomly drops neurons during a each iteration to avoid overdependence on that neuron\n",
        "# We use Sigmoid function for the Output Layer as the output is to be classified between 1(Positive) and 0(Negative)\n",
        "\n",
        "model = Sequential([\n",
        "    Dense(128, input_dim=X_train.shape[1], activation='relu', kernel_regularizer=l2(0.001)),  # Input Layer\n",
        "    BatchNormalization(),\n",
        "    Dropout(0.5),\n",
        "    Dense(64, activation='relu'), # Hidden Layer 1\n",
        "    BatchNormalization(),\n",
        "    Dropout(0.4),\n",
        "    Dense(32, activation='relu'), # Hidden Layer 2\n",
        "    Dropout(0.3),\n",
        "    Dense(1, activation='sigmoid') #Output Layer\n",
        "])"
      ],
      "metadata": {
        "colab": {
          "base_uri": "https://localhost:8080/"
        },
        "id": "-TfQkARCRVtV",
        "outputId": "27b7c07b-4659-48fa-d9b0-872817e56408"
      },
      "execution_count": 15,
      "outputs": [
        {
          "output_type": "stream",
          "name": "stderr",
          "text": [
            "/usr/local/lib/python3.10/dist-packages/keras/src/layers/core/dense.py:87: UserWarning: Do not pass an `input_shape`/`input_dim` argument to a layer. When using Sequential models, prefer using an `Input(shape)` object as the first layer in the model instead.\n",
            "  super().__init__(activity_regularizer=activity_regularizer, **kwargs)\n"
          ]
        }
      ]
    },
    {
      "cell_type": "code",
      "source": [
        "# This is used to stop processing/training the data when the the validation accuracy meets the converging point i.e, when the accuracy starts to drop\n",
        "# Patience=5 indicates the number of epocs the model must wait to stop the training\n",
        "early_stopping = EarlyStopping(monitor='val_accuracy', patience=5)"
      ],
      "metadata": {
        "id": "frjd8x5Ociwt"
      },
      "execution_count": 16,
      "outputs": []
    },
    {
      "cell_type": "code",
      "source": [
        "# Compile the model using Adam(Adaptive Moment Estimation) optimiser\n",
        "model.compile(optimizer='adam', loss='binary_crossentropy', metrics=['accuracy'])"
      ],
      "metadata": {
        "id": "lXDDMzD-RcI0"
      },
      "execution_count": 17,
      "outputs": []
    },
    {
      "cell_type": "code",
      "source": [
        "# Train the model:\n",
        "history = model.fit(X_train_fold, y_train_fold, epochs=100, batch_size=8, validation_split=0.2, verbose=1)"
      ],
      "metadata": {
        "colab": {
          "base_uri": "https://localhost:8080/"
        },
        "collapsed": true,
        "id": "x1_k_hpaRgrv",
        "outputId": "505a7a0f-95d6-4994-8572-7ddcaf6a3bdb"
      },
      "execution_count": 18,
      "outputs": [
        {
          "output_type": "stream",
          "name": "stdout",
          "text": [
            "Epoch 1/100\n",
            "\u001b[1m82/82\u001b[0m \u001b[32m━━━━━━━━━━━━━━━━━━━━\u001b[0m\u001b[37m\u001b[0m \u001b[1m3s\u001b[0m 7ms/step - accuracy: 0.5869 - loss: 0.7619 - val_accuracy: 0.7439 - val_loss: 0.6128\n",
            "Epoch 2/100\n",
            "\u001b[1m82/82\u001b[0m \u001b[32m━━━━━━━━━━━━━━━━━━━━\u001b[0m\u001b[37m\u001b[0m \u001b[1m0s\u001b[0m 4ms/step - accuracy: 0.7153 - loss: 0.6587 - val_accuracy: 0.7622 - val_loss: 0.5554\n",
            "Epoch 3/100\n",
            "\u001b[1m82/82\u001b[0m \u001b[32m━━━━━━━━━━━━━━━━━━━━\u001b[0m\u001b[37m\u001b[0m \u001b[1m1s\u001b[0m 4ms/step - accuracy: 0.7019 - loss: 0.6261 - val_accuracy: 0.7805 - val_loss: 0.5274\n",
            "Epoch 4/100\n",
            "\u001b[1m82/82\u001b[0m \u001b[32m━━━━━━━━━━━━━━━━━━━━\u001b[0m\u001b[37m\u001b[0m \u001b[1m1s\u001b[0m 4ms/step - accuracy: 0.7399 - loss: 0.5771 - val_accuracy: 0.7866 - val_loss: 0.5183\n",
            "Epoch 5/100\n",
            "\u001b[1m82/82\u001b[0m \u001b[32m━━━━━━━━━━━━━━━━━━━━\u001b[0m\u001b[37m\u001b[0m \u001b[1m1s\u001b[0m 4ms/step - accuracy: 0.7525 - loss: 0.5834 - val_accuracy: 0.7683 - val_loss: 0.5198\n",
            "Epoch 6/100\n",
            "\u001b[1m82/82\u001b[0m \u001b[32m━━━━━━━━━━━━━━━━━━━━\u001b[0m\u001b[37m\u001b[0m \u001b[1m1s\u001b[0m 4ms/step - accuracy: 0.7734 - loss: 0.5396 - val_accuracy: 0.7683 - val_loss: 0.5160\n",
            "Epoch 7/100\n",
            "\u001b[1m82/82\u001b[0m \u001b[32m━━━━━━━━━━━━━━━━━━━━\u001b[0m\u001b[37m\u001b[0m \u001b[1m1s\u001b[0m 4ms/step - accuracy: 0.7928 - loss: 0.5151 - val_accuracy: 0.7805 - val_loss: 0.5072\n",
            "Epoch 8/100\n",
            "\u001b[1m82/82\u001b[0m \u001b[32m━━━━━━━━━━━━━━━━━━━━\u001b[0m\u001b[37m\u001b[0m \u001b[1m0s\u001b[0m 4ms/step - accuracy: 0.7831 - loss: 0.5022 - val_accuracy: 0.8049 - val_loss: 0.4964\n",
            "Epoch 9/100\n",
            "\u001b[1m82/82\u001b[0m \u001b[32m━━━━━━━━━━━━━━━━━━━━\u001b[0m\u001b[37m\u001b[0m \u001b[1m1s\u001b[0m 4ms/step - accuracy: 0.7813 - loss: 0.5634 - val_accuracy: 0.7805 - val_loss: 0.4969\n",
            "Epoch 10/100\n",
            "\u001b[1m82/82\u001b[0m \u001b[32m━━━━━━━━━━━━━━━━━━━━\u001b[0m\u001b[37m\u001b[0m \u001b[1m0s\u001b[0m 3ms/step - accuracy: 0.7975 - loss: 0.4553 - val_accuracy: 0.8049 - val_loss: 0.4960\n",
            "Epoch 11/100\n",
            "\u001b[1m82/82\u001b[0m \u001b[32m━━━━━━━━━━━━━━━━━━━━\u001b[0m\u001b[37m\u001b[0m \u001b[1m0s\u001b[0m 4ms/step - accuracy: 0.8271 - loss: 0.4604 - val_accuracy: 0.7988 - val_loss: 0.4954\n",
            "Epoch 12/100\n",
            "\u001b[1m82/82\u001b[0m \u001b[32m━━━━━━━━━━━━━━━━━━━━\u001b[0m\u001b[37m\u001b[0m \u001b[1m1s\u001b[0m 4ms/step - accuracy: 0.7782 - loss: 0.5427 - val_accuracy: 0.7988 - val_loss: 0.4866\n",
            "Epoch 13/100\n",
            "\u001b[1m82/82\u001b[0m \u001b[32m━━━━━━━━━━━━━━━━━━━━\u001b[0m\u001b[37m\u001b[0m \u001b[1m0s\u001b[0m 4ms/step - accuracy: 0.7730 - loss: 0.5247 - val_accuracy: 0.8110 - val_loss: 0.4902\n",
            "Epoch 14/100\n",
            "\u001b[1m82/82\u001b[0m \u001b[32m━━━━━━━━━━━━━━━━━━━━\u001b[0m\u001b[37m\u001b[0m \u001b[1m1s\u001b[0m 5ms/step - accuracy: 0.8138 - loss: 0.4884 - val_accuracy: 0.8171 - val_loss: 0.4923\n",
            "Epoch 15/100\n",
            "\u001b[1m82/82\u001b[0m \u001b[32m━━━━━━━━━━━━━━━━━━━━\u001b[0m\u001b[37m\u001b[0m \u001b[1m1s\u001b[0m 6ms/step - accuracy: 0.8327 - loss: 0.4741 - val_accuracy: 0.8232 - val_loss: 0.4834\n",
            "Epoch 16/100\n",
            "\u001b[1m82/82\u001b[0m \u001b[32m━━━━━━━━━━━━━━━━━━━━\u001b[0m\u001b[37m\u001b[0m \u001b[1m1s\u001b[0m 5ms/step - accuracy: 0.8034 - loss: 0.4552 - val_accuracy: 0.8171 - val_loss: 0.4776\n",
            "Epoch 17/100\n",
            "\u001b[1m82/82\u001b[0m \u001b[32m━━━━━━━━━━━━━━━━━━━━\u001b[0m\u001b[37m\u001b[0m \u001b[1m1s\u001b[0m 5ms/step - accuracy: 0.8290 - loss: 0.4516 - val_accuracy: 0.8232 - val_loss: 0.4843\n",
            "Epoch 18/100\n",
            "\u001b[1m82/82\u001b[0m \u001b[32m━━━━━━━━━━━━━━━━━━━━\u001b[0m\u001b[37m\u001b[0m \u001b[1m1s\u001b[0m 6ms/step - accuracy: 0.8217 - loss: 0.4816 - val_accuracy: 0.8354 - val_loss: 0.4868\n",
            "Epoch 19/100\n",
            "\u001b[1m82/82\u001b[0m \u001b[32m━━━━━━━━━━━━━━━━━━━━\u001b[0m\u001b[37m\u001b[0m \u001b[1m1s\u001b[0m 5ms/step - accuracy: 0.8172 - loss: 0.4581 - val_accuracy: 0.8415 - val_loss: 0.4799\n",
            "Epoch 20/100\n",
            "\u001b[1m82/82\u001b[0m \u001b[32m━━━━━━━━━━━━━━━━━━━━\u001b[0m\u001b[37m\u001b[0m \u001b[1m1s\u001b[0m 4ms/step - accuracy: 0.8207 - loss: 0.4522 - val_accuracy: 0.8171 - val_loss: 0.4832\n",
            "Epoch 21/100\n",
            "\u001b[1m82/82\u001b[0m \u001b[32m━━━━━━━━━━━━━━━━━━━━\u001b[0m\u001b[37m\u001b[0m \u001b[1m1s\u001b[0m 4ms/step - accuracy: 0.8081 - loss: 0.4883 - val_accuracy: 0.8110 - val_loss: 0.4886\n",
            "Epoch 22/100\n",
            "\u001b[1m82/82\u001b[0m \u001b[32m━━━━━━━━━━━━━━━━━━━━\u001b[0m\u001b[37m\u001b[0m \u001b[1m1s\u001b[0m 4ms/step - accuracy: 0.8278 - loss: 0.4783 - val_accuracy: 0.8293 - val_loss: 0.4927\n",
            "Epoch 23/100\n",
            "\u001b[1m82/82\u001b[0m \u001b[32m━━━━━━━━━━━━━━━━━━━━\u001b[0m\u001b[37m\u001b[0m \u001b[1m0s\u001b[0m 4ms/step - accuracy: 0.8309 - loss: 0.4645 - val_accuracy: 0.8110 - val_loss: 0.4904\n",
            "Epoch 24/100\n",
            "\u001b[1m82/82\u001b[0m \u001b[32m━━━━━━━━━━━━━━━━━━━━\u001b[0m\u001b[37m\u001b[0m \u001b[1m1s\u001b[0m 4ms/step - accuracy: 0.7741 - loss: 0.5261 - val_accuracy: 0.8171 - val_loss: 0.4913\n",
            "Epoch 25/100\n",
            "\u001b[1m82/82\u001b[0m \u001b[32m━━━━━━━━━━━━━━━━━━━━\u001b[0m\u001b[37m\u001b[0m \u001b[1m1s\u001b[0m 6ms/step - accuracy: 0.8056 - loss: 0.4591 - val_accuracy: 0.8171 - val_loss: 0.4824\n",
            "Epoch 26/100\n",
            "\u001b[1m82/82\u001b[0m \u001b[32m━━━━━━━━━━━━━━━━━━━━\u001b[0m\u001b[37m\u001b[0m \u001b[1m0s\u001b[0m 6ms/step - accuracy: 0.8164 - loss: 0.4675 - val_accuracy: 0.8110 - val_loss: 0.4807\n",
            "Epoch 27/100\n",
            "\u001b[1m82/82\u001b[0m \u001b[32m━━━━━━━━━━━━━━━━━━━━\u001b[0m\u001b[37m\u001b[0m \u001b[1m1s\u001b[0m 6ms/step - accuracy: 0.8286 - loss: 0.4513 - val_accuracy: 0.8354 - val_loss: 0.4698\n",
            "Epoch 28/100\n",
            "\u001b[1m82/82\u001b[0m \u001b[32m━━━━━━━━━━━━━━━━━━━━\u001b[0m\u001b[37m\u001b[0m \u001b[1m1s\u001b[0m 5ms/step - accuracy: 0.8519 - loss: 0.3997 - val_accuracy: 0.8354 - val_loss: 0.4602\n",
            "Epoch 29/100\n",
            "\u001b[1m82/82\u001b[0m \u001b[32m━━━━━━━━━━━━━━━━━━━━\u001b[0m\u001b[37m\u001b[0m \u001b[1m1s\u001b[0m 7ms/step - accuracy: 0.8138 - loss: 0.4687 - val_accuracy: 0.8293 - val_loss: 0.4769\n",
            "Epoch 30/100\n",
            "\u001b[1m82/82\u001b[0m \u001b[32m━━━━━━━━━━━━━━━━━━━━\u001b[0m\u001b[37m\u001b[0m \u001b[1m0s\u001b[0m 3ms/step - accuracy: 0.8230 - loss: 0.4416 - val_accuracy: 0.8232 - val_loss: 0.4810\n",
            "Epoch 31/100\n",
            "\u001b[1m82/82\u001b[0m \u001b[32m━━━━━━━━━━━━━━━━━━━━\u001b[0m\u001b[37m\u001b[0m \u001b[1m1s\u001b[0m 4ms/step - accuracy: 0.8347 - loss: 0.4483 - val_accuracy: 0.8354 - val_loss: 0.4811\n",
            "Epoch 32/100\n",
            "\u001b[1m82/82\u001b[0m \u001b[32m━━━━━━━━━━━━━━━━━━━━\u001b[0m\u001b[37m\u001b[0m \u001b[1m1s\u001b[0m 4ms/step - accuracy: 0.7961 - loss: 0.4656 - val_accuracy: 0.8354 - val_loss: 0.4812\n",
            "Epoch 33/100\n",
            "\u001b[1m82/82\u001b[0m \u001b[32m━━━━━━━━━━━━━━━━━━━━\u001b[0m\u001b[37m\u001b[0m \u001b[1m1s\u001b[0m 3ms/step - accuracy: 0.8371 - loss: 0.4286 - val_accuracy: 0.8293 - val_loss: 0.4811\n",
            "Epoch 34/100\n",
            "\u001b[1m82/82\u001b[0m \u001b[32m━━━━━━━━━━━━━━━━━━━━\u001b[0m\u001b[37m\u001b[0m \u001b[1m0s\u001b[0m 3ms/step - accuracy: 0.8529 - loss: 0.4155 - val_accuracy: 0.8293 - val_loss: 0.4688\n",
            "Epoch 35/100\n",
            "\u001b[1m82/82\u001b[0m \u001b[32m━━━━━━━━━━━━━━━━━━━━\u001b[0m\u001b[37m\u001b[0m \u001b[1m0s\u001b[0m 4ms/step - accuracy: 0.8443 - loss: 0.4439 - val_accuracy: 0.8049 - val_loss: 0.4669\n",
            "Epoch 36/100\n",
            "\u001b[1m82/82\u001b[0m \u001b[32m━━━━━━━━━━━━━━━━━━━━\u001b[0m\u001b[37m\u001b[0m \u001b[1m0s\u001b[0m 3ms/step - accuracy: 0.8292 - loss: 0.4410 - val_accuracy: 0.7988 - val_loss: 0.4771\n",
            "Epoch 37/100\n",
            "\u001b[1m82/82\u001b[0m \u001b[32m━━━━━━━━━━━━━━━━━━━━\u001b[0m\u001b[37m\u001b[0m \u001b[1m0s\u001b[0m 3ms/step - accuracy: 0.8477 - loss: 0.3940 - val_accuracy: 0.7988 - val_loss: 0.4870\n",
            "Epoch 38/100\n",
            "\u001b[1m82/82\u001b[0m \u001b[32m━━━━━━━━━━━━━━━━━━━━\u001b[0m\u001b[37m\u001b[0m \u001b[1m0s\u001b[0m 4ms/step - accuracy: 0.8009 - loss: 0.4601 - val_accuracy: 0.8232 - val_loss: 0.4887\n",
            "Epoch 39/100\n",
            "\u001b[1m82/82\u001b[0m \u001b[32m━━━━━━━━━━━━━━━━━━━━\u001b[0m\u001b[37m\u001b[0m \u001b[1m1s\u001b[0m 5ms/step - accuracy: 0.8551 - loss: 0.3815 - val_accuracy: 0.8049 - val_loss: 0.4883\n",
            "Epoch 40/100\n",
            "\u001b[1m82/82\u001b[0m \u001b[32m━━━━━━━━━━━━━━━━━━━━\u001b[0m\u001b[37m\u001b[0m \u001b[1m1s\u001b[0m 5ms/step - accuracy: 0.8601 - loss: 0.3793 - val_accuracy: 0.8293 - val_loss: 0.4828\n",
            "Epoch 41/100\n",
            "\u001b[1m82/82\u001b[0m \u001b[32m━━━━━━━━━━━━━━━━━━━━\u001b[0m\u001b[37m\u001b[0m \u001b[1m1s\u001b[0m 6ms/step - accuracy: 0.8454 - loss: 0.4401 - val_accuracy: 0.8354 - val_loss: 0.4877\n",
            "Epoch 42/100\n",
            "\u001b[1m82/82\u001b[0m \u001b[32m━━━━━━━━━━━━━━━━━━━━\u001b[0m\u001b[37m\u001b[0m \u001b[1m1s\u001b[0m 6ms/step - accuracy: 0.8564 - loss: 0.3827 - val_accuracy: 0.8476 - val_loss: 0.4874\n",
            "Epoch 43/100\n",
            "\u001b[1m82/82\u001b[0m \u001b[32m━━━━━━━━━━━━━━━━━━━━\u001b[0m\u001b[37m\u001b[0m \u001b[1m1s\u001b[0m 6ms/step - accuracy: 0.8445 - loss: 0.4262 - val_accuracy: 0.8293 - val_loss: 0.4795\n",
            "Epoch 44/100\n",
            "\u001b[1m82/82\u001b[0m \u001b[32m━━━━━━━━━━━━━━━━━━━━\u001b[0m\u001b[37m\u001b[0m \u001b[1m0s\u001b[0m 4ms/step - accuracy: 0.8447 - loss: 0.4100 - val_accuracy: 0.8171 - val_loss: 0.4901\n",
            "Epoch 45/100\n",
            "\u001b[1m82/82\u001b[0m \u001b[32m━━━━━━━━━━━━━━━━━━━━\u001b[0m\u001b[37m\u001b[0m \u001b[1m1s\u001b[0m 5ms/step - accuracy: 0.8548 - loss: 0.4088 - val_accuracy: 0.8232 - val_loss: 0.4889\n",
            "Epoch 46/100\n",
            "\u001b[1m82/82\u001b[0m \u001b[32m━━━━━━━━━━━━━━━━━━━━\u001b[0m\u001b[37m\u001b[0m \u001b[1m1s\u001b[0m 5ms/step - accuracy: 0.7956 - loss: 0.4439 - val_accuracy: 0.8232 - val_loss: 0.4816\n",
            "Epoch 47/100\n",
            "\u001b[1m82/82\u001b[0m \u001b[32m━━━━━━━━━━━━━━━━━━━━\u001b[0m\u001b[37m\u001b[0m \u001b[1m0s\u001b[0m 4ms/step - accuracy: 0.8205 - loss: 0.4457 - val_accuracy: 0.8293 - val_loss: 0.4693\n",
            "Epoch 48/100\n",
            "\u001b[1m82/82\u001b[0m \u001b[32m━━━━━━━━━━━━━━━━━━━━\u001b[0m\u001b[37m\u001b[0m \u001b[1m0s\u001b[0m 4ms/step - accuracy: 0.8596 - loss: 0.3920 - val_accuracy: 0.8354 - val_loss: 0.4668\n",
            "Epoch 49/100\n",
            "\u001b[1m82/82\u001b[0m \u001b[32m━━━━━━━━━━━━━━━━━━━━\u001b[0m\u001b[37m\u001b[0m \u001b[1m1s\u001b[0m 4ms/step - accuracy: 0.8402 - loss: 0.3833 - val_accuracy: 0.8293 - val_loss: 0.4663\n",
            "Epoch 50/100\n",
            "\u001b[1m82/82\u001b[0m \u001b[32m━━━━━━━━━━━━━━━━━━━━\u001b[0m\u001b[37m\u001b[0m \u001b[1m1s\u001b[0m 5ms/step - accuracy: 0.8519 - loss: 0.3837 - val_accuracy: 0.8232 - val_loss: 0.4826\n",
            "Epoch 51/100\n",
            "\u001b[1m82/82\u001b[0m \u001b[32m━━━━━━━━━━━━━━━━━━━━\u001b[0m\u001b[37m\u001b[0m \u001b[1m0s\u001b[0m 5ms/step - accuracy: 0.8386 - loss: 0.4082 - val_accuracy: 0.8232 - val_loss: 0.4867\n",
            "Epoch 52/100\n",
            "\u001b[1m82/82\u001b[0m \u001b[32m━━━━━━━━━━━━━━━━━━━━\u001b[0m\u001b[37m\u001b[0m \u001b[1m1s\u001b[0m 4ms/step - accuracy: 0.8164 - loss: 0.4298 - val_accuracy: 0.8354 - val_loss: 0.4789\n",
            "Epoch 53/100\n",
            "\u001b[1m82/82\u001b[0m \u001b[32m━━━━━━━━━━━━━━━━━━━━\u001b[0m\u001b[37m\u001b[0m \u001b[1m1s\u001b[0m 4ms/step - accuracy: 0.8496 - loss: 0.3953 - val_accuracy: 0.8232 - val_loss: 0.4977\n",
            "Epoch 54/100\n",
            "\u001b[1m82/82\u001b[0m \u001b[32m━━━━━━━━━━━━━━━━━━━━\u001b[0m\u001b[37m\u001b[0m \u001b[1m0s\u001b[0m 4ms/step - accuracy: 0.8590 - loss: 0.3725 - val_accuracy: 0.8171 - val_loss: 0.5108\n",
            "Epoch 55/100\n",
            "\u001b[1m82/82\u001b[0m \u001b[32m━━━━━━━━━━━━━━━━━━━━\u001b[0m\u001b[37m\u001b[0m \u001b[1m1s\u001b[0m 4ms/step - accuracy: 0.8540 - loss: 0.3862 - val_accuracy: 0.8110 - val_loss: 0.5131\n",
            "Epoch 56/100\n",
            "\u001b[1m82/82\u001b[0m \u001b[32m━━━━━━━━━━━━━━━━━━━━\u001b[0m\u001b[37m\u001b[0m \u001b[1m0s\u001b[0m 4ms/step - accuracy: 0.8521 - loss: 0.4084 - val_accuracy: 0.8171 - val_loss: 0.4945\n",
            "Epoch 57/100\n",
            "\u001b[1m82/82\u001b[0m \u001b[32m━━━━━━━━━━━━━━━━━━━━\u001b[0m\u001b[37m\u001b[0m \u001b[1m0s\u001b[0m 4ms/step - accuracy: 0.8638 - loss: 0.3886 - val_accuracy: 0.8232 - val_loss: 0.5161\n",
            "Epoch 58/100\n",
            "\u001b[1m82/82\u001b[0m \u001b[32m━━━━━━━━━━━━━━━━━━━━\u001b[0m\u001b[37m\u001b[0m \u001b[1m0s\u001b[0m 5ms/step - accuracy: 0.8290 - loss: 0.4283 - val_accuracy: 0.8232 - val_loss: 0.5011\n",
            "Epoch 59/100\n",
            "\u001b[1m82/82\u001b[0m \u001b[32m━━━━━━━━━━━━━━━━━━━━\u001b[0m\u001b[37m\u001b[0m \u001b[1m1s\u001b[0m 6ms/step - accuracy: 0.8359 - loss: 0.4347 - val_accuracy: 0.8171 - val_loss: 0.4986\n",
            "Epoch 60/100\n",
            "\u001b[1m82/82\u001b[0m \u001b[32m━━━━━━━━━━━━━━━━━━━━\u001b[0m\u001b[37m\u001b[0m \u001b[1m1s\u001b[0m 6ms/step - accuracy: 0.8656 - loss: 0.3581 - val_accuracy: 0.8293 - val_loss: 0.5022\n",
            "Epoch 61/100\n",
            "\u001b[1m82/82\u001b[0m \u001b[32m━━━━━━━━━━━━━━━━━━━━\u001b[0m\u001b[37m\u001b[0m \u001b[1m0s\u001b[0m 5ms/step - accuracy: 0.8510 - loss: 0.3940 - val_accuracy: 0.8232 - val_loss: 0.5167\n",
            "Epoch 62/100\n",
            "\u001b[1m82/82\u001b[0m \u001b[32m━━━━━━━━━━━━━━━━━━━━\u001b[0m\u001b[37m\u001b[0m \u001b[1m0s\u001b[0m 5ms/step - accuracy: 0.8880 - loss: 0.3333 - val_accuracy: 0.8232 - val_loss: 0.5299\n",
            "Epoch 63/100\n",
            "\u001b[1m82/82\u001b[0m \u001b[32m━━━━━━━━━━━━━━━━━━━━\u001b[0m\u001b[37m\u001b[0m \u001b[1m1s\u001b[0m 7ms/step - accuracy: 0.8513 - loss: 0.4132 - val_accuracy: 0.8110 - val_loss: 0.5250\n",
            "Epoch 64/100\n",
            "\u001b[1m82/82\u001b[0m \u001b[32m━━━━━━━━━━━━━━━━━━━━\u001b[0m\u001b[37m\u001b[0m \u001b[1m1s\u001b[0m 6ms/step - accuracy: 0.8669 - loss: 0.3642 - val_accuracy: 0.8049 - val_loss: 0.5062\n",
            "Epoch 65/100\n",
            "\u001b[1m82/82\u001b[0m \u001b[32m━━━━━━━━━━━━━━━━━━━━\u001b[0m\u001b[37m\u001b[0m \u001b[1m1s\u001b[0m 6ms/step - accuracy: 0.8922 - loss: 0.3382 - val_accuracy: 0.8049 - val_loss: 0.5298\n",
            "Epoch 66/100\n",
            "\u001b[1m82/82\u001b[0m \u001b[32m━━━━━━━━━━━━━━━━━━━━\u001b[0m\u001b[37m\u001b[0m \u001b[1m1s\u001b[0m 5ms/step - accuracy: 0.8572 - loss: 0.3617 - val_accuracy: 0.8232 - val_loss: 0.5130\n",
            "Epoch 67/100\n",
            "\u001b[1m82/82\u001b[0m \u001b[32m━━━━━━━━━━━━━━━━━━━━\u001b[0m\u001b[37m\u001b[0m \u001b[1m0s\u001b[0m 4ms/step - accuracy: 0.8554 - loss: 0.3861 - val_accuracy: 0.8110 - val_loss: 0.5119\n",
            "Epoch 68/100\n",
            "\u001b[1m82/82\u001b[0m \u001b[32m━━━━━━━━━━━━━━━━━━━━\u001b[0m\u001b[37m\u001b[0m \u001b[1m1s\u001b[0m 4ms/step - accuracy: 0.8191 - loss: 0.4366 - val_accuracy: 0.8049 - val_loss: 0.5071\n",
            "Epoch 69/100\n",
            "\u001b[1m82/82\u001b[0m \u001b[32m━━━━━━━━━━━━━━━━━━━━\u001b[0m\u001b[37m\u001b[0m \u001b[1m1s\u001b[0m 4ms/step - accuracy: 0.8402 - loss: 0.4023 - val_accuracy: 0.7988 - val_loss: 0.5399\n",
            "Epoch 70/100\n",
            "\u001b[1m82/82\u001b[0m \u001b[32m━━━━━━━━━━━━━━━━━━━━\u001b[0m\u001b[37m\u001b[0m \u001b[1m1s\u001b[0m 4ms/step - accuracy: 0.8748 - loss: 0.3278 - val_accuracy: 0.8049 - val_loss: 0.5293\n",
            "Epoch 71/100\n",
            "\u001b[1m82/82\u001b[0m \u001b[32m━━━━━━━━━━━━━━━━━━━━\u001b[0m\u001b[37m\u001b[0m \u001b[1m1s\u001b[0m 3ms/step - accuracy: 0.8620 - loss: 0.3699 - val_accuracy: 0.8049 - val_loss: 0.5409\n",
            "Epoch 72/100\n",
            "\u001b[1m82/82\u001b[0m \u001b[32m━━━━━━━━━━━━━━━━━━━━\u001b[0m\u001b[37m\u001b[0m \u001b[1m0s\u001b[0m 4ms/step - accuracy: 0.8869 - loss: 0.3428 - val_accuracy: 0.7805 - val_loss: 0.5457\n",
            "Epoch 73/100\n",
            "\u001b[1m82/82\u001b[0m \u001b[32m━━━━━━━━━━━━━━━━━━━━\u001b[0m\u001b[37m\u001b[0m \u001b[1m0s\u001b[0m 4ms/step - accuracy: 0.8620 - loss: 0.3544 - val_accuracy: 0.7866 - val_loss: 0.5502\n",
            "Epoch 74/100\n",
            "\u001b[1m82/82\u001b[0m \u001b[32m━━━━━━━━━━━━━━━━━━━━\u001b[0m\u001b[37m\u001b[0m \u001b[1m0s\u001b[0m 4ms/step - accuracy: 0.8466 - loss: 0.3998 - val_accuracy: 0.7805 - val_loss: 0.5464\n",
            "Epoch 75/100\n",
            "\u001b[1m82/82\u001b[0m \u001b[32m━━━━━━━━━━━━━━━━━━━━\u001b[0m\u001b[37m\u001b[0m \u001b[1m1s\u001b[0m 4ms/step - accuracy: 0.8563 - loss: 0.3742 - val_accuracy: 0.7744 - val_loss: 0.5878\n",
            "Epoch 76/100\n",
            "\u001b[1m82/82\u001b[0m \u001b[32m━━━━━━━━━━━━━━━━━━━━\u001b[0m\u001b[37m\u001b[0m \u001b[1m1s\u001b[0m 4ms/step - accuracy: 0.8914 - loss: 0.3231 - val_accuracy: 0.7927 - val_loss: 0.5435\n",
            "Epoch 77/100\n",
            "\u001b[1m82/82\u001b[0m \u001b[32m━━━━━━━━━━━━━━━━━━━━\u001b[0m\u001b[37m\u001b[0m \u001b[1m1s\u001b[0m 5ms/step - accuracy: 0.8497 - loss: 0.3747 - val_accuracy: 0.7866 - val_loss: 0.5527\n",
            "Epoch 78/100\n",
            "\u001b[1m82/82\u001b[0m \u001b[32m━━━━━━━━━━━━━━━━━━━━\u001b[0m\u001b[37m\u001b[0m \u001b[1m1s\u001b[0m 5ms/step - accuracy: 0.8818 - loss: 0.3237 - val_accuracy: 0.7988 - val_loss: 0.5539\n",
            "Epoch 79/100\n",
            "\u001b[1m82/82\u001b[0m \u001b[32m━━━━━━━━━━━━━━━━━━━━\u001b[0m\u001b[37m\u001b[0m \u001b[1m1s\u001b[0m 4ms/step - accuracy: 0.8902 - loss: 0.3365 - val_accuracy: 0.8110 - val_loss: 0.5458\n",
            "Epoch 80/100\n",
            "\u001b[1m82/82\u001b[0m \u001b[32m━━━━━━━━━━━━━━━━━━━━\u001b[0m\u001b[37m\u001b[0m \u001b[1m1s\u001b[0m 4ms/step - accuracy: 0.8697 - loss: 0.3192 - val_accuracy: 0.7744 - val_loss: 0.5588\n",
            "Epoch 81/100\n",
            "\u001b[1m82/82\u001b[0m \u001b[32m━━━━━━━━━━━━━━━━━━━━\u001b[0m\u001b[37m\u001b[0m \u001b[1m1s\u001b[0m 4ms/step - accuracy: 0.8799 - loss: 0.3190 - val_accuracy: 0.7805 - val_loss: 0.5554\n",
            "Epoch 82/100\n",
            "\u001b[1m82/82\u001b[0m \u001b[32m━━━━━━━━━━━━━━━━━━━━\u001b[0m\u001b[37m\u001b[0m \u001b[1m1s\u001b[0m 4ms/step - accuracy: 0.8652 - loss: 0.3749 - val_accuracy: 0.7866 - val_loss: 0.5411\n",
            "Epoch 83/100\n",
            "\u001b[1m82/82\u001b[0m \u001b[32m━━━━━━━━━━━━━━━━━━━━\u001b[0m\u001b[37m\u001b[0m \u001b[1m1s\u001b[0m 4ms/step - accuracy: 0.8781 - loss: 0.3173 - val_accuracy: 0.7927 - val_loss: 0.5311\n",
            "Epoch 84/100\n",
            "\u001b[1m82/82\u001b[0m \u001b[32m━━━━━━━━━━━━━━━━━━━━\u001b[0m\u001b[37m\u001b[0m \u001b[1m0s\u001b[0m 4ms/step - accuracy: 0.8757 - loss: 0.3576 - val_accuracy: 0.8110 - val_loss: 0.5213\n",
            "Epoch 85/100\n",
            "\u001b[1m82/82\u001b[0m \u001b[32m━━━━━━━━━━━━━━━━━━━━\u001b[0m\u001b[37m\u001b[0m \u001b[1m1s\u001b[0m 5ms/step - accuracy: 0.8803 - loss: 0.3506 - val_accuracy: 0.7744 - val_loss: 0.5560\n",
            "Epoch 86/100\n",
            "\u001b[1m82/82\u001b[0m \u001b[32m━━━━━━━━━━━━━━━━━━━━\u001b[0m\u001b[37m\u001b[0m \u001b[1m0s\u001b[0m 5ms/step - accuracy: 0.9152 - loss: 0.3065 - val_accuracy: 0.7866 - val_loss: 0.5491\n",
            "Epoch 87/100\n",
            "\u001b[1m82/82\u001b[0m \u001b[32m━━━━━━━━━━━━━━━━━━━━\u001b[0m\u001b[37m\u001b[0m \u001b[1m1s\u001b[0m 5ms/step - accuracy: 0.8706 - loss: 0.3713 - val_accuracy: 0.7866 - val_loss: 0.5284\n",
            "Epoch 88/100\n",
            "\u001b[1m82/82\u001b[0m \u001b[32m━━━━━━━━━━━━━━━━━━━━\u001b[0m\u001b[37m\u001b[0m \u001b[1m1s\u001b[0m 6ms/step - accuracy: 0.8745 - loss: 0.3619 - val_accuracy: 0.7805 - val_loss: 0.5559\n",
            "Epoch 89/100\n",
            "\u001b[1m82/82\u001b[0m \u001b[32m━━━━━━━━━━━━━━━━━━━━\u001b[0m\u001b[37m\u001b[0m \u001b[1m1s\u001b[0m 6ms/step - accuracy: 0.8835 - loss: 0.3344 - val_accuracy: 0.8232 - val_loss: 0.5420\n",
            "Epoch 90/100\n",
            "\u001b[1m82/82\u001b[0m \u001b[32m━━━━━━━━━━━━━━━━━━━━\u001b[0m\u001b[37m\u001b[0m \u001b[1m1s\u001b[0m 6ms/step - accuracy: 0.9071 - loss: 0.2986 - val_accuracy: 0.7866 - val_loss: 0.5316\n",
            "Epoch 91/100\n",
            "\u001b[1m82/82\u001b[0m \u001b[32m━━━━━━━━━━━━━━━━━━━━\u001b[0m\u001b[37m\u001b[0m \u001b[1m0s\u001b[0m 4ms/step - accuracy: 0.8654 - loss: 0.3297 - val_accuracy: 0.7927 - val_loss: 0.5462\n",
            "Epoch 92/100\n",
            "\u001b[1m82/82\u001b[0m \u001b[32m━━━━━━━━━━━━━━━━━━━━\u001b[0m\u001b[37m\u001b[0m \u001b[1m1s\u001b[0m 4ms/step - accuracy: 0.8799 - loss: 0.3111 - val_accuracy: 0.8049 - val_loss: 0.5355\n",
            "Epoch 93/100\n",
            "\u001b[1m82/82\u001b[0m \u001b[32m━━━━━━━━━━━━━━━━━━━━\u001b[0m\u001b[37m\u001b[0m \u001b[1m1s\u001b[0m 4ms/step - accuracy: 0.8901 - loss: 0.2838 - val_accuracy: 0.8110 - val_loss: 0.5234\n",
            "Epoch 94/100\n",
            "\u001b[1m82/82\u001b[0m \u001b[32m━━━━━━━━━━━━━━━━━━━━\u001b[0m\u001b[37m\u001b[0m \u001b[1m1s\u001b[0m 5ms/step - accuracy: 0.9020 - loss: 0.3108 - val_accuracy: 0.8110 - val_loss: 0.5295\n",
            "Epoch 95/100\n",
            "\u001b[1m82/82\u001b[0m \u001b[32m━━━━━━━━━━━━━━━━━━━━\u001b[0m\u001b[37m\u001b[0m \u001b[1m1s\u001b[0m 6ms/step - accuracy: 0.8806 - loss: 0.3312 - val_accuracy: 0.8049 - val_loss: 0.5634\n",
            "Epoch 96/100\n",
            "\u001b[1m82/82\u001b[0m \u001b[32m━━━━━━━━━━━━━━━━━━━━\u001b[0m\u001b[37m\u001b[0m \u001b[1m1s\u001b[0m 6ms/step - accuracy: 0.8721 - loss: 0.3383 - val_accuracy: 0.7866 - val_loss: 0.5335\n",
            "Epoch 97/100\n",
            "\u001b[1m82/82\u001b[0m \u001b[32m━━━━━━━━━━━━━━━━━━━━\u001b[0m\u001b[37m\u001b[0m \u001b[1m1s\u001b[0m 6ms/step - accuracy: 0.8804 - loss: 0.3485 - val_accuracy: 0.7927 - val_loss: 0.5108\n",
            "Epoch 98/100\n",
            "\u001b[1m82/82\u001b[0m \u001b[32m━━━━━━━━━━━━━━━━━━━━\u001b[0m\u001b[37m\u001b[0m \u001b[1m0s\u001b[0m 4ms/step - accuracy: 0.8962 - loss: 0.2793 - val_accuracy: 0.8049 - val_loss: 0.5241\n",
            "Epoch 99/100\n",
            "\u001b[1m82/82\u001b[0m \u001b[32m━━━━━━━━━━━━━━━━━━━━\u001b[0m\u001b[37m\u001b[0m \u001b[1m1s\u001b[0m 4ms/step - accuracy: 0.8848 - loss: 0.3345 - val_accuracy: 0.8049 - val_loss: 0.5646\n",
            "Epoch 100/100\n",
            "\u001b[1m82/82\u001b[0m \u001b[32m━━━━━━━━━━━━━━━━━━━━\u001b[0m\u001b[37m\u001b[0m \u001b[1m0s\u001b[0m 4ms/step - accuracy: 0.8853 - loss: 0.3274 - val_accuracy: 0.8110 - val_loss: 0.5642\n"
          ]
        }
      ]
    },
    {
      "cell_type": "code",
      "source": [
        "# Predict on test set\n",
        "# The predict statement produces a boolean value that is converted into Numerical data using the astype()\n",
        "y_pred_fold = (model.predict(X_val_fold) > 0.5).astype('int32')"
      ],
      "metadata": {
        "colab": {
          "base_uri": "https://localhost:8080/"
        },
        "id": "ZreoXEDORllW",
        "outputId": "a2247efa-9010-4cbb-b1cf-458fa7e37fe3"
      },
      "execution_count": 19,
      "outputs": [
        {
          "output_type": "stream",
          "name": "stdout",
          "text": [
            "\u001b[1m13/13\u001b[0m \u001b[32m━━━━━━━━━━━━━━━━━━━━\u001b[0m\u001b[37m\u001b[0m \u001b[1m0s\u001b[0m 8ms/step\n"
          ]
        }
      ]
    },
    {
      "cell_type": "markdown",
      "source": [
        "# Evaluation"
      ],
      "metadata": {
        "id": "FvugwzENO34i"
      }
    },
    {
      "cell_type": "code",
      "source": [
        "# Accuracy\n",
        "accuracy = accuracy_score(y_val_fold, y_pred_fold)\n",
        "print(f\"Accuracy: {accuracy * 100:.2f}%\")"
      ],
      "metadata": {
        "colab": {
          "base_uri": "https://localhost:8080/"
        },
        "id": "HAJrj6-gRngV",
        "outputId": "ef50d13f-056b-437c-eb1a-a8bdf7630d14"
      },
      "execution_count": 20,
      "outputs": [
        {
          "output_type": "stream",
          "name": "stdout",
          "text": [
            "Accuracy: 81.42%\n"
          ]
        }
      ]
    },
    {
      "cell_type": "code",
      "source": [
        "# Confusion matrix\n",
        "print(\"\\nConfusion Matrix:\\n\", confusion_matrix(y_val_fold, y_pred_fold))"
      ],
      "metadata": {
        "colab": {
          "base_uri": "https://localhost:8080/"
        },
        "id": "74TW4dqDR0Sx",
        "outputId": "ebb15b54-cdb2-46d6-d643-73a6e6198173"
      },
      "execution_count": 21,
      "outputs": [
        {
          "output_type": "stream",
          "name": "stdout",
          "text": [
            "\n",
            "Confusion Matrix:\n",
            " [[224  38]\n",
            " [ 38 109]]\n"
          ]
        }
      ]
    },
    {
      "cell_type": "code",
      "source": [
        "# Classification report\n",
        "print(\"\\nClassification Report:\\n\", classification_report(y_val_fold, y_pred_fold))"
      ],
      "metadata": {
        "colab": {
          "base_uri": "https://localhost:8080/"
        },
        "id": "sLJCGr3XR2B4",
        "outputId": "fe05ff41-fd08-4c81-d328-1fb0e1dc26f2"
      },
      "execution_count": 22,
      "outputs": [
        {
          "output_type": "stream",
          "name": "stdout",
          "text": [
            "\n",
            "Classification Report:\n",
            "               precision    recall  f1-score   support\n",
            "\n",
            "           0       0.85      0.85      0.85       262\n",
            "           1       0.74      0.74      0.74       147\n",
            "\n",
            "    accuracy                           0.81       409\n",
            "   macro avg       0.80      0.80      0.80       409\n",
            "weighted avg       0.81      0.81      0.81       409\n",
            "\n"
          ]
        }
      ]
    },
    {
      "cell_type": "markdown",
      "source": [
        "#New Patient data"
      ],
      "metadata": {
        "id": "mgQFp-y8OREi"
      }
    },
    {
      "cell_type": "code",
      "source": [
        "# Predict whether the new patient has Osterioporosis\n",
        "\n",
        "def predict_new(patient_data):\n",
        "    \"\"\"\n",
        "    Predict if a new patient has osteoporosis using the trained neural network model.\n",
        "    Args:\n",
        "        patient_data: Data with the same number of features as the model input.\n",
        "    Returns:\n",
        "        0 = No Osteoporosis or 1 = Osteoporosis\n",
        "    \"\"\"\n",
        "    patient_scaled = scaler.transform([patient_data])  # Scale the data\n",
        "    prediction = (model.predict(patient_scaled) > 0.5).astype('int32')  # Predict\n",
        "    print(prediction)\n",
        "    return prediction[0][0]"
      ],
      "metadata": {
        "id": "fiBHj8h6R_-f"
      },
      "execution_count": 23,
      "outputs": []
    },
    {
      "cell_type": "code",
      "source": [
        "#Getting the input from the user using Try and Except method\n",
        "def get_patient():\n",
        "    while True:  # Input validation loop\n",
        "        try:\n",
        "            gender = int(input(\"Gender (1 for Female, 2 for Male): \"))\n",
        "            if gender not in (1, 2):\n",
        "                raise ValueError\n",
        "            age = int(input(\"Age: \"))\n",
        "            height = float(input(\"Height (in cm): \"))\n",
        "            weight = float(input(\"Weight (in kg): \"))\n",
        "            bmi = weight/((height/100)**2)\n",
        "            l1_4 = float(input(\"L1-4: \"))\n",
        "            l1_4t = float(input(\"L1.4T: \"))\n",
        "            fn = float(input(\"FN: \"))\n",
        "            fnt = float(input(\"FNT: \"))\n",
        "            tl = float(input(\"TL: \"))\n",
        "            tlt = float(input(\"TLT: \"))\n",
        "            alt = float(input(\"ALT: \"))\n",
        "            ast = float(input(\"AST: \"))\n",
        "            bun = float(input(\"BUN: \"))\n",
        "            crea = float(input(\"CREA: \"))\n",
        "            uric = float(input(\"URIC: \"))\n",
        "            fbg = float(input(\"FBG: \"))\n",
        "            hdl_c = float(input(\"HDL-C: \"))\n",
        "            ldl_c = float(input(\"LDL-C: \"))\n",
        "            ca = float(input(\"Ca: \"))\n",
        "            p = float(input(\"P: \"))\n",
        "            mg = float(input(\"Mg: \"))\n",
        "            calsium = float(input(\"Calsium (duplicate column, please check your data): \"))\n",
        "            calcitriol = float(input(\"Calcitriol: \"))\n",
        "            bisphosphonate = int(input(\"Bisphosphonate use (0 for No, 1 for Yes): \"))\n",
        "            if bisphosphonate not in (0, 1):\n",
        "                raise ValueError\n",
        "            calcitonin = int(input(\"Calcitonin use (0 for No, 1 for Yes): \"))\n",
        "            if calcitonin not in (0, 1):\n",
        "                raise ValueError\n",
        "            htn = int(input(\"Hypertension (0 for No, 1 for Yes): \"))\n",
        "            if htn not in (0, 1):\n",
        "                raise ValueError\n",
        "            copd = int(input(\"COPD (0 for No, 1 for Yes): \"))\n",
        "            if copd not in (0, 1):\n",
        "                raise ValueError\n",
        "            dm = int(input(\"DM (0 for No, 1 for Yes): \"))\n",
        "            if dm not in (0, 1):\n",
        "                raise ValueError\n",
        "            hyperlipidaemia = int(input(\"Hyperlipidaemia (0 for No, 1 for Yes): \"))\n",
        "            if hyperlipidaemia not in (0, 1):\n",
        "                raise ValueError\n",
        "            hyperuricemia = int(input(\"Hyperuricemia (0 for No, 1 for Yes): \"))\n",
        "            if hyperuricemia not in (0, 1):\n",
        "                raise ValueError\n",
        "            as_val = int(input(\"AS (0 for No, 1 for Yes): \"))\n",
        "            if as_val not in (0, 1):\n",
        "                raise ValueError\n",
        "            vt = int(input(\"VT (0 for No, 1 for Yes): \"))\n",
        "            if vt not in (0, 1):\n",
        "                raise ValueError\n",
        "            vd = int(input(\"VD (0 for No, 1 for Yes): \"))\n",
        "            if vd not in (0, 1):\n",
        "                raise ValueError\n",
        "            cad = int(input(\"CAD (0 for No, 1 for Yes): \"))\n",
        "            if cad not in (0, 1):\n",
        "                raise ValueError\n",
        "            ckd = int(input(\"CKD (0 for No, 1 for Yes): \"))\n",
        "            if ckd not in (0, 1):\n",
        "                raise ValueError\n",
        "            fracture = int(input(\"Fracture (0 for No, 1 for Yes): \"))\n",
        "            if fracture not in (0, 1):\n",
        "                raise ValueError\n",
        "            smoking = int(input(\"Smoking (0 for No, 1 for Yes): \"))\n",
        "            if smoking not in (0, 1):\n",
        "                raise ValueError\n",
        "            drinking = int(input(\"Drinking (0 for No, 1 for Yes): \"))\n",
        "            if drinking not in (0, 1):\n",
        "                raise ValueError\n",
        "\n",
        "            break # Exit loop if input is valid\n",
        "\n",
        "        except ValueError:\n",
        "            print(\"Invalid input. Please enter a valid number.\")\n",
        "        except Exception as e: # Catch other errors\n",
        "            print(f\"An error occurred: {e}\")\n",
        "\n",
        "    patient_data = [gender, age, height, weight, bmi, l1_4, l1_4t, fn, fnt, tl, tlt, alt, ast, bun, crea, uric, fbg, hdl_c, ldl_c, ca, p, mg, calsium, calcitriol, bisphosphonate, calcitonin, htn, copd, dm, hyperlipidaemia, hyperuricemia, as_val, vt, vd, cad, ckd, fracture, smoking, drinking]\n",
        "    return patient_data"
      ],
      "metadata": {
        "id": "gbOUPDCdKu5x"
      },
      "execution_count": 26,
      "outputs": []
    },
    {
      "cell_type": "code",
      "source": [
        "# Sample patient data\n",
        "patient = [\n",
        "    1,      # Gender (1 = Male, 2 = Female)\n",
        "    55,     # Age (in years)\n",
        "    160,    # Height (in cm)\n",
        "    65,     # Weight (in kg)\n",
        "    25.4,   # BMI (Body Mass Index)\n",
        "    0.85,   # L1-4 (Bone density measure)\n",
        "    0.77,   # L1.4T (Bone density measure)\n",
        "    0.9,    # FN (Bone density measure)\n",
        "    0.85,   # FNT (Bone density measure)\n",
        "    0.7,    # TL (Bone density measure)\n",
        "    0.72,   # TLT (Bone density measure)\n",
        "    0.85,   # ALT (Alanine Transaminase level)\n",
        "    1.2,    # AST (Aspartate Transaminase level)\n",
        "    15.0,   # BUN (Blood Urea Nitrogen level)\n",
        "    0.85,   # CREA (Creatinine level)\n",
        "    5.6,    # URIC (Uric acid level)\n",
        "    95,     # FBG (Fasting Blood Glucose level)\n",
        "    45,     # HDL-C (High-Density Lipoprotein Cholesterol)\n",
        "    120,    # LDL-C (Low-Density Lipoprotein Cholesterol)\n",
        "    9.5,    # Ca (Calcium level)\n",
        "    3.9,    # P (Phosphorus level)\n",
        "    2.1,    # Mg (Magnesium level)\n",
        "    9.0,    # Calcium (level)\n",
        "    32.0,   # Calcitriol (Vitamin D3 level)\n",
        "    1,      # Bisphosphonate (1 = Yes, 0 = No)\n",
        "    0,      # Calcitonin (1 = Yes, 0 = No)\n",
        "    1,      # HTN (Hypertension, 1 = Yes, 0 = No)\n",
        "    0,      # COPD (Chronic Obstructive Pulmonary Disease, 1 = Yes, 0 = No)\n",
        "    0,      # DM (Diabetes Mellitus, 1 = Yes, 0 = No)\n",
        "    1,      # Hyperlipidemia (1 = Yes, 0 = No)\n",
        "    0,      # Hyperuricemia (1 = Yes, 0 = No)\n",
        "    0,      # AS (Aortic Stenosis, 1 = Yes, 0 = No)\n",
        "    0,      # VT (Ventricular Tachycardia, 1 = Yes, 0 = No)\n",
        "    0,      # VD (Valvular Disease, 1 = Yes, 0 = No)\n",
        "    1,      # CAD (Coronary Artery Disease, 1 = Yes, 0 = No)\n",
        "    0,      # CKD (Chronic Kidney Disease, 1 = Yes, 0 = No)\n",
        "    1,      # Fracture (1 = Yes, 0 = No)\n",
        "    0,      # Smoking (1 = Yes, 0 = No)\n",
        "    1      # Drinking (1 = Yes, 0 = No)\n",
        "    #1        OP (Osteoporosis, 1 = Yes, 0 = No) — This is usually the target variable, not used as an input\n",
        "]\n"
      ],
      "metadata": {
        "id": "y1na8sjmNNul"
      },
      "execution_count": 32,
      "outputs": []
    },
    {
      "cell_type": "code",
      "source": [
        "# Diagnoising the patient based on his reports and finding the probability\n",
        "\n",
        "#patient=get_patient()\n",
        "print(\"Prediction for new patient for Osteoporosis:\")\n",
        "print(f\"You have {accuracy * 100:.2f}% chance that the result is :\"+ \"Positive\" if predict_new(patient)==1 else \"Negative\")\n"
      ],
      "metadata": {
        "colab": {
          "base_uri": "https://localhost:8080/"
        },
        "id": "mMQpEjGuSCcz",
        "outputId": "3baac6d1-991e-4b2e-8ed5-a529e4b27d92"
      },
      "execution_count": 34,
      "outputs": [
        {
          "output_type": "stream",
          "name": "stdout",
          "text": [
            "Prediction for new patient for Osteoporosis:\n",
            "\u001b[1m1/1\u001b[0m \u001b[32m━━━━━━━━━━━━━━━━━━━━\u001b[0m\u001b[37m\u001b[0m \u001b[1m0s\u001b[0m 43ms/step\n",
            "[[1]]\n",
            "You have 81.42% chance that the result is :Positive\n"
          ]
        },
        {
          "output_type": "stream",
          "name": "stderr",
          "text": [
            "/usr/local/lib/python3.10/dist-packages/sklearn/base.py:493: UserWarning: X does not have valid feature names, but StandardScaler was fitted with feature names\n",
            "  warnings.warn(\n"
          ]
        }
      ]
    }
  ]
}