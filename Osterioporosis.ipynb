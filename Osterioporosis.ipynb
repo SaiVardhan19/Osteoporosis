{
  "nbformat": 4,
  "nbformat_minor": 0,
  "metadata": {
    "colab": {
      "provenance": [],
      "collapsed_sections": [
        "LUz8pFaOO_OW",
        "FvugwzENO34i",
        "mgQFp-y8OREi"
      ],
      "authorship_tag": "ABX9TyPFsMz7jmqNbS++gBfl0jQD",
      "include_colab_link": true
    },
    "kernelspec": {
      "name": "python3",
      "display_name": "Python 3"
    },
    "language_info": {
      "name": "python"
    }
  },
  "cells": [
    {
      "cell_type": "markdown",
      "metadata": {
        "id": "view-in-github",
        "colab_type": "text"
      },
      "source": [
        "<a href=\"https://colab.research.google.com/github/SaiVardhan19/Osteoporosis/blob/main/Osterioporosis.ipynb\" target=\"_parent\"><img src=\"https://colab.research.google.com/assets/colab-badge.svg\" alt=\"Open In Colab\"/></a>"
      ]
    },
    {
      "cell_type": "markdown",
      "source": [
        "#Importing the Required Libraries"
      ],
      "metadata": {
        "id": "8FOBIKdkPEE-"
      }
    },
    {
      "cell_type": "code",
      "execution_count": 35,
      "metadata": {
        "id": "-YSpEOCFQVKC"
      },
      "outputs": [],
      "source": [
        "import pandas as pd\n",
        "import numpy as np\n",
        "from sklearn.model_selection import train_test_split,KFold\n",
        "from sklearn.preprocessing import StandardScaler, LabelEncoder\n",
        "from sklearn.metrics import accuracy_score, classification_report, confusion_matrix\n",
        "import tensorflow as tf\n",
        "from tensorflow.keras.models import Sequential\n",
        "from tensorflow.keras.layers import Dense, Dropout, BatchNormalization\n"
      ]
    },
    {
      "cell_type": "code",
      "source": [
        "from tensorflow.keras.callbacks import EarlyStopping\n",
        "from tensorflow.keras.regularizers import l2"
      ],
      "metadata": {
        "id": "iLYX3r_Kdrkk"
      },
      "execution_count": 36,
      "outputs": []
    },
    {
      "cell_type": "code",
      "source": [
        "df=pd.read_csv(\"/content/Osteo data.csv\")"
      ],
      "metadata": {
        "id": "SKYpk3DzQcuG"
      },
      "execution_count": 37,
      "outputs": []
    },
    {
      "cell_type": "markdown",
      "source": [
        "# Data Preprocessing"
      ],
      "metadata": {
        "id": "pLHQbKp1Yx-5"
      }
    },
    {
      "cell_type": "code",
      "source": [
        "# Handle missing values\n",
        "# Filling missing values with the median of each column\n",
        "df.fillna(df.median(), inplace=True)"
      ],
      "metadata": {
        "id": "TuaFqVcyQ8PI"
      },
      "execution_count": 38,
      "outputs": []
    },
    {
      "cell_type": "code",
      "source": [
        "# Encoding categorical features (like Smoking, Drinking)\n",
        "label_encoders = {}\n",
        "for column in ['Smoking', 'Drinking']:\n",
        "    if column in df.columns:\n",
        "        le = LabelEncoder()\n",
        "        df[column] = le.fit_transform(df[column])\n",
        "        label_encoders[column] = le\n"
      ],
      "metadata": {
        "id": "tZNscxaQRAVY"
      },
      "execution_count": 39,
      "outputs": []
    },
    {
      "cell_type": "code",
      "source": [
        "# Separate features (X) and target (y)\n",
        "X = df.drop(columns=['OP'])  # Drop the target column (Osteoporosis indicator)\n",
        "y = df['OP']  # Target variable\n"
      ],
      "metadata": {
        "id": "pFJim5J-RIQ9"
      },
      "execution_count": 40,
      "outputs": []
    },
    {
      "cell_type": "code",
      "source": [
        "# Split the dataset into training and testing sets (80% train, 20% test)\n",
        "X_train, X_test, y_train, y_test = train_test_split(X, y, test_size=0.2, random_state=42)"
      ],
      "metadata": {
        "id": "I6Mg3mv_UcLX"
      },
      "execution_count": 41,
      "outputs": []
    },
    {
      "cell_type": "code",
      "source": [
        "# Feature Scaling\n",
        "scaler = StandardScaler()\n",
        "X_train = scaler.fit_transform(X_train)\n",
        "X_test = scaler.transform(X_test)"
      ],
      "metadata": {
        "id": "8-tTUOKqRToZ"
      },
      "execution_count": 42,
      "outputs": []
    },
    {
      "cell_type": "code",
      "source": [
        "X_train.shape # Shape of the Training data(Rows,columns)"
      ],
      "metadata": {
        "colab": {
          "base_uri": "https://localhost:8080/"
        },
        "id": "YMCWe5qyVKrU",
        "outputId": "1db2b63d-322e-4772-d44f-bc534fae5aae"
      },
      "execution_count": 43,
      "outputs": [
        {
          "output_type": "execute_result",
          "data": {
            "text/plain": [
              "(1229, 39)"
            ]
          },
          "metadata": {},
          "execution_count": 43
        }
      ]
    },
    {
      "cell_type": "markdown",
      "source": [
        "# K-Fold and Model Compilation\n",
        "\n"
      ],
      "metadata": {
        "id": "wtErrOoleO8S"
      }
    },
    {
      "cell_type": "code",
      "source": [
        "# 3-fold cross-validation where the data is shuffled before splitting into folds\n",
        "kf = KFold(n_splits=3, shuffle=True, random_state=42)\n",
        "\n",
        "for train_index, val_index in kf.split(X_train, y_train):\n",
        "    X_train_fold, X_val_fold = X_train[train_index], X_train[val_index]\n",
        "    y_train_fold, y_val_fold = y_train.iloc[train_index], y_train.iloc[val_index]\n"
      ],
      "metadata": {
        "id": "cEkGH29feOoR"
      },
      "execution_count": 44,
      "outputs": []
    },
    {
      "cell_type": "code",
      "source": [
        "# Build the Neural Network Model:\n",
        "# Input layer contains 128 neurons and we use L2 regularization to prevent overfitting\n",
        "# Batch normalization is used to stabilize training as it normalises the input component for each layer such that mean=0 and SD=1\n",
        "# Dropout prevents overfitting as it randomly drops neurons during a each iteration to avoid overdependence on that neuron\n",
        "# We use Sigmoid function for the Output Layer as the output is to be classified between 1(Positive) and 0(Negative)\n",
        "\n",
        "model = Sequential([\n",
        "    Dense(128, input_dim=X_train.shape[1], activation='relu', kernel_regularizer=l2(0.001)),  # Input Layer\n",
        "    BatchNormalization(),\n",
        "    Dropout(0.5),\n",
        "    Dense(64, activation='relu'), # Hidden Layer 1\n",
        "    BatchNormalization(),\n",
        "    Dropout(0.4),\n",
        "    Dense(32, activation='relu'), # Hidden Layer 2\n",
        "    Dropout(0.3),\n",
        "    Dense(1, activation='sigmoid') #Output Layer\n",
        "])"
      ],
      "metadata": {
        "colab": {
          "base_uri": "https://localhost:8080/"
        },
        "id": "-TfQkARCRVtV",
        "outputId": "ba20dc08-a9c2-4db3-bbee-6b2636545a30"
      },
      "execution_count": 45,
      "outputs": [
        {
          "output_type": "stream",
          "name": "stderr",
          "text": [
            "/usr/local/lib/python3.10/dist-packages/keras/src/layers/core/dense.py:87: UserWarning: Do not pass an `input_shape`/`input_dim` argument to a layer. When using Sequential models, prefer using an `Input(shape)` object as the first layer in the model instead.\n",
            "  super().__init__(activity_regularizer=activity_regularizer, **kwargs)\n"
          ]
        }
      ]
    },
    {
      "cell_type": "code",
      "source": [
        "# This is used to stop processing/training the data when the the validation accuracy meets the converging point i.e, when the accuracy starts to drop\n",
        "# Patience=5 indicates the number of epocs the model must wait to stop the training\n",
        "early_stopping = EarlyStopping(monitor='val_accuracy', patience=5)"
      ],
      "metadata": {
        "id": "frjd8x5Ociwt"
      },
      "execution_count": 46,
      "outputs": []
    },
    {
      "cell_type": "code",
      "source": [
        "# Compile the model using Adam(Adaptive Moment Estimation) optimiser\n",
        "model.compile(optimizer='adam', loss='binary_crossentropy', metrics=['accuracy'])"
      ],
      "metadata": {
        "id": "lXDDMzD-RcI0"
      },
      "execution_count": 47,
      "outputs": []
    },
    {
      "cell_type": "code",
      "source": [
        "# Train the model:\n",
        "history = model.fit(X_train_fold, y_train_fold, epochs=100, batch_size=16, validation_split=0.2, verbose=1)"
      ],
      "metadata": {
        "colab": {
          "base_uri": "https://localhost:8080/"
        },
        "collapsed": true,
        "id": "x1_k_hpaRgrv",
        "outputId": "24e37d43-6499-44fb-c20c-c00bb3900e75"
      },
      "execution_count": 48,
      "outputs": [
        {
          "output_type": "stream",
          "name": "stdout",
          "text": [
            "Epoch 1/100\n",
            "\u001b[1m41/41\u001b[0m \u001b[32m━━━━━━━━━━━━━━━━━━━━\u001b[0m\u001b[37m\u001b[0m \u001b[1m3s\u001b[0m 10ms/step - accuracy: 0.5865 - loss: 0.9623 - val_accuracy: 0.7195 - val_loss: 0.6718\n",
            "Epoch 2/100\n",
            "\u001b[1m41/41\u001b[0m \u001b[32m━━━━━━━━━━━━━━━━━━━━\u001b[0m\u001b[37m\u001b[0m \u001b[1m0s\u001b[0m 4ms/step - accuracy: 0.6687 - loss: 0.6749 - val_accuracy: 0.7744 - val_loss: 0.5952\n",
            "Epoch 3/100\n",
            "\u001b[1m41/41\u001b[0m \u001b[32m━━━━━━━━━━━━━━━━━━━━\u001b[0m\u001b[37m\u001b[0m \u001b[1m0s\u001b[0m 4ms/step - accuracy: 0.6927 - loss: 0.6047 - val_accuracy: 0.7744 - val_loss: 0.5486\n",
            "Epoch 4/100\n",
            "\u001b[1m41/41\u001b[0m \u001b[32m━━━━━━━━━━━━━━━━━━━━\u001b[0m\u001b[37m\u001b[0m \u001b[1m0s\u001b[0m 4ms/step - accuracy: 0.7499 - loss: 0.5890 - val_accuracy: 0.7866 - val_loss: 0.5188\n",
            "Epoch 5/100\n",
            "\u001b[1m41/41\u001b[0m \u001b[32m━━━━━━━━━━━━━━━━━━━━\u001b[0m\u001b[37m\u001b[0m \u001b[1m0s\u001b[0m 4ms/step - accuracy: 0.7575 - loss: 0.5473 - val_accuracy: 0.7927 - val_loss: 0.5014\n",
            "Epoch 6/100\n",
            "\u001b[1m41/41\u001b[0m \u001b[32m━━━━━━━━━━━━━━━━━━━━\u001b[0m\u001b[37m\u001b[0m \u001b[1m0s\u001b[0m 5ms/step - accuracy: 0.7527 - loss: 0.5480 - val_accuracy: 0.8171 - val_loss: 0.4882\n",
            "Epoch 7/100\n",
            "\u001b[1m41/41\u001b[0m \u001b[32m━━━━━━━━━━━━━━━━━━━━\u001b[0m\u001b[37m\u001b[0m \u001b[1m0s\u001b[0m 7ms/step - accuracy: 0.7887 - loss: 0.4923 - val_accuracy: 0.8171 - val_loss: 0.4813\n",
            "Epoch 8/100\n",
            "\u001b[1m41/41\u001b[0m \u001b[32m━━━━━━━━━━━━━━━━━━━━\u001b[0m\u001b[37m\u001b[0m \u001b[1m0s\u001b[0m 6ms/step - accuracy: 0.7672 - loss: 0.5494 - val_accuracy: 0.8171 - val_loss: 0.4783\n",
            "Epoch 9/100\n",
            "\u001b[1m41/41\u001b[0m \u001b[32m━━━━━━━━━━━━━━━━━━━━\u001b[0m\u001b[37m\u001b[0m \u001b[1m0s\u001b[0m 7ms/step - accuracy: 0.7788 - loss: 0.5280 - val_accuracy: 0.8354 - val_loss: 0.4732\n",
            "Epoch 10/100\n",
            "\u001b[1m41/41\u001b[0m \u001b[32m━━━━━━━━━━━━━━━━━━━━\u001b[0m\u001b[37m\u001b[0m \u001b[1m1s\u001b[0m 7ms/step - accuracy: 0.7797 - loss: 0.5035 - val_accuracy: 0.8293 - val_loss: 0.4706\n",
            "Epoch 11/100\n",
            "\u001b[1m41/41\u001b[0m \u001b[32m━━━━━━━━━━━━━━━━━━━━\u001b[0m\u001b[37m\u001b[0m \u001b[1m1s\u001b[0m 6ms/step - accuracy: 0.7949 - loss: 0.4882 - val_accuracy: 0.8232 - val_loss: 0.4826\n",
            "Epoch 12/100\n",
            "\u001b[1m41/41\u001b[0m \u001b[32m━━━━━━━━━━━━━━━━━━━━\u001b[0m\u001b[37m\u001b[0m \u001b[1m0s\u001b[0m 7ms/step - accuracy: 0.8186 - loss: 0.4714 - val_accuracy: 0.8293 - val_loss: 0.4810\n",
            "Epoch 13/100\n",
            "\u001b[1m41/41\u001b[0m \u001b[32m━━━━━━━━━━━━━━━━━━━━\u001b[0m\u001b[37m\u001b[0m \u001b[1m0s\u001b[0m 9ms/step - accuracy: 0.8307 - loss: 0.4935 - val_accuracy: 0.8293 - val_loss: 0.4862\n",
            "Epoch 14/100\n",
            "\u001b[1m41/41\u001b[0m \u001b[32m━━━━━━━━━━━━━━━━━━━━\u001b[0m\u001b[37m\u001b[0m \u001b[1m0s\u001b[0m 4ms/step - accuracy: 0.8315 - loss: 0.4777 - val_accuracy: 0.8232 - val_loss: 0.4723\n",
            "Epoch 15/100\n",
            "\u001b[1m41/41\u001b[0m \u001b[32m━━━━━━━━━━━━━━━━━━━━\u001b[0m\u001b[37m\u001b[0m \u001b[1m0s\u001b[0m 4ms/step - accuracy: 0.8340 - loss: 0.4350 - val_accuracy: 0.8476 - val_loss: 0.4708\n",
            "Epoch 16/100\n",
            "\u001b[1m41/41\u001b[0m \u001b[32m━━━━━━━━━━━━━━━━━━━━\u001b[0m\u001b[37m\u001b[0m \u001b[1m0s\u001b[0m 4ms/step - accuracy: 0.8038 - loss: 0.4821 - val_accuracy: 0.8354 - val_loss: 0.4691\n",
            "Epoch 17/100\n",
            "\u001b[1m41/41\u001b[0m \u001b[32m━━━━━━━━━━━━━━━━━━━━\u001b[0m\u001b[37m\u001b[0m \u001b[1m0s\u001b[0m 5ms/step - accuracy: 0.8180 - loss: 0.4430 - val_accuracy: 0.8415 - val_loss: 0.4818\n",
            "Epoch 18/100\n",
            "\u001b[1m41/41\u001b[0m \u001b[32m━━━━━━━━━━━━━━━━━━━━\u001b[0m\u001b[37m\u001b[0m \u001b[1m0s\u001b[0m 4ms/step - accuracy: 0.8388 - loss: 0.4672 - val_accuracy: 0.8476 - val_loss: 0.4811\n",
            "Epoch 19/100\n",
            "\u001b[1m41/41\u001b[0m \u001b[32m━━━━━━━━━━━━━━━━━━━━\u001b[0m\u001b[37m\u001b[0m \u001b[1m0s\u001b[0m 4ms/step - accuracy: 0.8441 - loss: 0.4204 - val_accuracy: 0.8354 - val_loss: 0.4824\n",
            "Epoch 20/100\n",
            "\u001b[1m41/41\u001b[0m \u001b[32m━━━━━━━━━━━━━━━━━━━━\u001b[0m\u001b[37m\u001b[0m \u001b[1m0s\u001b[0m 4ms/step - accuracy: 0.8379 - loss: 0.4573 - val_accuracy: 0.8293 - val_loss: 0.4906\n",
            "Epoch 21/100\n",
            "\u001b[1m41/41\u001b[0m \u001b[32m━━━━━━━━━━━━━━━━━━━━\u001b[0m\u001b[37m\u001b[0m \u001b[1m0s\u001b[0m 5ms/step - accuracy: 0.8172 - loss: 0.4650 - val_accuracy: 0.8293 - val_loss: 0.4741\n",
            "Epoch 22/100\n",
            "\u001b[1m41/41\u001b[0m \u001b[32m━━━━━━━━━━━━━━━━━━━━\u001b[0m\u001b[37m\u001b[0m \u001b[1m0s\u001b[0m 5ms/step - accuracy: 0.8436 - loss: 0.3950 - val_accuracy: 0.8232 - val_loss: 0.4882\n",
            "Epoch 23/100\n",
            "\u001b[1m41/41\u001b[0m \u001b[32m━━━━━━━━━━━━━━━━━━━━\u001b[0m\u001b[37m\u001b[0m \u001b[1m0s\u001b[0m 4ms/step - accuracy: 0.8261 - loss: 0.4174 - val_accuracy: 0.8354 - val_loss: 0.4796\n",
            "Epoch 24/100\n",
            "\u001b[1m41/41\u001b[0m \u001b[32m━━━━━━━━━━━━━━━━━━━━\u001b[0m\u001b[37m\u001b[0m \u001b[1m0s\u001b[0m 4ms/step - accuracy: 0.8515 - loss: 0.4299 - val_accuracy: 0.8354 - val_loss: 0.4858\n",
            "Epoch 25/100\n",
            "\u001b[1m41/41\u001b[0m \u001b[32m━━━━━━━━━━━━━━━━━━━━\u001b[0m\u001b[37m\u001b[0m \u001b[1m0s\u001b[0m 5ms/step - accuracy: 0.8589 - loss: 0.3993 - val_accuracy: 0.8415 - val_loss: 0.4764\n",
            "Epoch 26/100\n",
            "\u001b[1m41/41\u001b[0m \u001b[32m━━━━━━━━━━━━━━━━━━━━\u001b[0m\u001b[37m\u001b[0m \u001b[1m0s\u001b[0m 5ms/step - accuracy: 0.8460 - loss: 0.3985 - val_accuracy: 0.8415 - val_loss: 0.4784\n",
            "Epoch 27/100\n",
            "\u001b[1m41/41\u001b[0m \u001b[32m━━━━━━━━━━━━━━━━━━━━\u001b[0m\u001b[37m\u001b[0m \u001b[1m0s\u001b[0m 8ms/step - accuracy: 0.8820 - loss: 0.3340 - val_accuracy: 0.8354 - val_loss: 0.4865\n",
            "Epoch 28/100\n",
            "\u001b[1m41/41\u001b[0m \u001b[32m━━━━━━━━━━━━━━━━━━━━\u001b[0m\u001b[37m\u001b[0m \u001b[1m1s\u001b[0m 7ms/step - accuracy: 0.8264 - loss: 0.4181 - val_accuracy: 0.8171 - val_loss: 0.4785\n",
            "Epoch 29/100\n",
            "\u001b[1m41/41\u001b[0m \u001b[32m━━━━━━━━━━━━━━━━━━━━\u001b[0m\u001b[37m\u001b[0m \u001b[1m0s\u001b[0m 6ms/step - accuracy: 0.8631 - loss: 0.4156 - val_accuracy: 0.8232 - val_loss: 0.4770\n",
            "Epoch 30/100\n",
            "\u001b[1m41/41\u001b[0m \u001b[32m━━━━━━━━━━━━━━━━━━━━\u001b[0m\u001b[37m\u001b[0m \u001b[1m1s\u001b[0m 8ms/step - accuracy: 0.8540 - loss: 0.3912 - val_accuracy: 0.8354 - val_loss: 0.4862\n",
            "Epoch 31/100\n",
            "\u001b[1m41/41\u001b[0m \u001b[32m━━━━━━━━━━━━━━━━━━━━\u001b[0m\u001b[37m\u001b[0m \u001b[1m0s\u001b[0m 7ms/step - accuracy: 0.8310 - loss: 0.3827 - val_accuracy: 0.8232 - val_loss: 0.4861\n",
            "Epoch 32/100\n",
            "\u001b[1m41/41\u001b[0m \u001b[32m━━━━━━━━━━━━━━━━━━━━\u001b[0m\u001b[37m\u001b[0m \u001b[1m1s\u001b[0m 5ms/step - accuracy: 0.8643 - loss: 0.3713 - val_accuracy: 0.8354 - val_loss: 0.4801\n",
            "Epoch 33/100\n",
            "\u001b[1m41/41\u001b[0m \u001b[32m━━━━━━━━━━━━━━━━━━━━\u001b[0m\u001b[37m\u001b[0m \u001b[1m0s\u001b[0m 4ms/step - accuracy: 0.8610 - loss: 0.3920 - val_accuracy: 0.8476 - val_loss: 0.4666\n",
            "Epoch 34/100\n",
            "\u001b[1m41/41\u001b[0m \u001b[32m━━━━━━━━━━━━━━━━━━━━\u001b[0m\u001b[37m\u001b[0m \u001b[1m0s\u001b[0m 8ms/step - accuracy: 0.8516 - loss: 0.3770 - val_accuracy: 0.8354 - val_loss: 0.4664\n",
            "Epoch 35/100\n",
            "\u001b[1m41/41\u001b[0m \u001b[32m━━━━━━━━━━━━━━━━━━━━\u001b[0m\u001b[37m\u001b[0m \u001b[1m1s\u001b[0m 9ms/step - accuracy: 0.8862 - loss: 0.3308 - val_accuracy: 0.8293 - val_loss: 0.4740\n",
            "Epoch 36/100\n",
            "\u001b[1m41/41\u001b[0m \u001b[32m━━━━━━━━━━━━━━━━━━━━\u001b[0m\u001b[37m\u001b[0m \u001b[1m1s\u001b[0m 12ms/step - accuracy: 0.8734 - loss: 0.3590 - val_accuracy: 0.8293 - val_loss: 0.4647\n",
            "Epoch 37/100\n",
            "\u001b[1m41/41\u001b[0m \u001b[32m━━━━━━━━━━━━━━━━━━━━\u001b[0m\u001b[37m\u001b[0m \u001b[1m1s\u001b[0m 9ms/step - accuracy: 0.8374 - loss: 0.4189 - val_accuracy: 0.8232 - val_loss: 0.4576\n",
            "Epoch 38/100\n",
            "\u001b[1m41/41\u001b[0m \u001b[32m━━━━━━━━━━━━━━━━━━━━\u001b[0m\u001b[37m\u001b[0m \u001b[1m1s\u001b[0m 7ms/step - accuracy: 0.8984 - loss: 0.3348 - val_accuracy: 0.8293 - val_loss: 0.4571\n",
            "Epoch 39/100\n",
            "\u001b[1m41/41\u001b[0m \u001b[32m━━━━━━━━━━━━━━━━━━━━\u001b[0m\u001b[37m\u001b[0m \u001b[1m1s\u001b[0m 11ms/step - accuracy: 0.8493 - loss: 0.3944 - val_accuracy: 0.8354 - val_loss: 0.4478\n",
            "Epoch 40/100\n",
            "\u001b[1m41/41\u001b[0m \u001b[32m━━━━━━━━━━━━━━━━━━━━\u001b[0m\u001b[37m\u001b[0m \u001b[1m1s\u001b[0m 12ms/step - accuracy: 0.8754 - loss: 0.3510 - val_accuracy: 0.8293 - val_loss: 0.4621\n",
            "Epoch 41/100\n",
            "\u001b[1m41/41\u001b[0m \u001b[32m━━━━━━━━━━━━━━━━━━━━\u001b[0m\u001b[37m\u001b[0m \u001b[1m1s\u001b[0m 11ms/step - accuracy: 0.8581 - loss: 0.3747 - val_accuracy: 0.8293 - val_loss: 0.4714\n",
            "Epoch 42/100\n",
            "\u001b[1m41/41\u001b[0m \u001b[32m━━━━━━━━━━━━━━━━━━━━\u001b[0m\u001b[37m\u001b[0m \u001b[1m1s\u001b[0m 14ms/step - accuracy: 0.8742 - loss: 0.3222 - val_accuracy: 0.8415 - val_loss: 0.4776\n",
            "Epoch 43/100\n",
            "\u001b[1m41/41\u001b[0m \u001b[32m━━━━━━━━━━━━━━━━━━━━\u001b[0m\u001b[37m\u001b[0m \u001b[1m1s\u001b[0m 12ms/step - accuracy: 0.8568 - loss: 0.3589 - val_accuracy: 0.8354 - val_loss: 0.4828\n",
            "Epoch 44/100\n",
            "\u001b[1m41/41\u001b[0m \u001b[32m━━━━━━━━━━━━━━━━━━━━\u001b[0m\u001b[37m\u001b[0m \u001b[1m1s\u001b[0m 19ms/step - accuracy: 0.8750 - loss: 0.3702 - val_accuracy: 0.8415 - val_loss: 0.4672\n",
            "Epoch 45/100\n",
            "\u001b[1m41/41\u001b[0m \u001b[32m━━━━━━━━━━━━━━━━━━━━\u001b[0m\u001b[37m\u001b[0m \u001b[1m1s\u001b[0m 14ms/step - accuracy: 0.8745 - loss: 0.3431 - val_accuracy: 0.8415 - val_loss: 0.4831\n",
            "Epoch 46/100\n",
            "\u001b[1m41/41\u001b[0m \u001b[32m━━━━━━━━━━━━━━━━━━━━\u001b[0m\u001b[37m\u001b[0m \u001b[1m0s\u001b[0m 8ms/step - accuracy: 0.8871 - loss: 0.3315 - val_accuracy: 0.8354 - val_loss: 0.4855\n",
            "Epoch 47/100\n",
            "\u001b[1m41/41\u001b[0m \u001b[32m━━━━━━━━━━━━━━━━━━━━\u001b[0m\u001b[37m\u001b[0m \u001b[1m1s\u001b[0m 8ms/step - accuracy: 0.8740 - loss: 0.3325 - val_accuracy: 0.8232 - val_loss: 0.4988\n",
            "Epoch 48/100\n",
            "\u001b[1m41/41\u001b[0m \u001b[32m━━━━━━━━━━━━━━━━━━━━\u001b[0m\u001b[37m\u001b[0m \u001b[1m0s\u001b[0m 10ms/step - accuracy: 0.8688 - loss: 0.3462 - val_accuracy: 0.8232 - val_loss: 0.4916\n",
            "Epoch 49/100\n",
            "\u001b[1m41/41\u001b[0m \u001b[32m━━━━━━━━━━━━━━━━━━━━\u001b[0m\u001b[37m\u001b[0m \u001b[1m1s\u001b[0m 11ms/step - accuracy: 0.8838 - loss: 0.3424 - val_accuracy: 0.8232 - val_loss: 0.5016\n",
            "Epoch 50/100\n",
            "\u001b[1m41/41\u001b[0m \u001b[32m━━━━━━━━━━━━━━━━━━━━\u001b[0m\u001b[37m\u001b[0m \u001b[1m1s\u001b[0m 12ms/step - accuracy: 0.8744 - loss: 0.3533 - val_accuracy: 0.8293 - val_loss: 0.4950\n",
            "Epoch 51/100\n",
            "\u001b[1m41/41\u001b[0m \u001b[32m━━━━━━━━━━━━━━━━━━━━\u001b[0m\u001b[37m\u001b[0m \u001b[1m1s\u001b[0m 10ms/step - accuracy: 0.8991 - loss: 0.3235 - val_accuracy: 0.8232 - val_loss: 0.4836\n",
            "Epoch 52/100\n",
            "\u001b[1m41/41\u001b[0m \u001b[32m━━━━━━━━━━━━━━━━━━━━\u001b[0m\u001b[37m\u001b[0m \u001b[1m1s\u001b[0m 13ms/step - accuracy: 0.8784 - loss: 0.3354 - val_accuracy: 0.8293 - val_loss: 0.4879\n",
            "Epoch 53/100\n",
            "\u001b[1m41/41\u001b[0m \u001b[32m━━━━━━━━━━━━━━━━━━━━\u001b[0m\u001b[37m\u001b[0m \u001b[1m1s\u001b[0m 9ms/step - accuracy: 0.8833 - loss: 0.3305 - val_accuracy: 0.8293 - val_loss: 0.4883\n",
            "Epoch 54/100\n",
            "\u001b[1m41/41\u001b[0m \u001b[32m━━━━━━━━━━━━━━━━━━━━\u001b[0m\u001b[37m\u001b[0m \u001b[1m1s\u001b[0m 12ms/step - accuracy: 0.8875 - loss: 0.3391 - val_accuracy: 0.8354 - val_loss: 0.4859\n",
            "Epoch 55/100\n",
            "\u001b[1m41/41\u001b[0m \u001b[32m━━━━━━━━━━━━━━━━━━━━\u001b[0m\u001b[37m\u001b[0m \u001b[1m1s\u001b[0m 9ms/step - accuracy: 0.9092 - loss: 0.3089 - val_accuracy: 0.8293 - val_loss: 0.4891\n",
            "Epoch 56/100\n",
            "\u001b[1m41/41\u001b[0m \u001b[32m━━━━━━━━━━━━━━━━━━━━\u001b[0m\u001b[37m\u001b[0m \u001b[1m1s\u001b[0m 11ms/step - accuracy: 0.8866 - loss: 0.3191 - val_accuracy: 0.8171 - val_loss: 0.4942\n",
            "Epoch 57/100\n",
            "\u001b[1m41/41\u001b[0m \u001b[32m━━━━━━━━━━━━━━━━━━━━\u001b[0m\u001b[37m\u001b[0m \u001b[1m0s\u001b[0m 4ms/step - accuracy: 0.9139 - loss: 0.3013 - val_accuracy: 0.8171 - val_loss: 0.5005\n",
            "Epoch 58/100\n",
            "\u001b[1m41/41\u001b[0m \u001b[32m━━━━━━━━━━━━━━━━━━━━\u001b[0m\u001b[37m\u001b[0m \u001b[1m0s\u001b[0m 4ms/step - accuracy: 0.8854 - loss: 0.3155 - val_accuracy: 0.8110 - val_loss: 0.4879\n",
            "Epoch 59/100\n",
            "\u001b[1m41/41\u001b[0m \u001b[32m━━━━━━━━━━━━━━━━━━━━\u001b[0m\u001b[37m\u001b[0m \u001b[1m0s\u001b[0m 5ms/step - accuracy: 0.8663 - loss: 0.3576 - val_accuracy: 0.8171 - val_loss: 0.5097\n",
            "Epoch 60/100\n",
            "\u001b[1m41/41\u001b[0m \u001b[32m━━━━━━━━━━━━━━━━━━━━\u001b[0m\u001b[37m\u001b[0m \u001b[1m0s\u001b[0m 5ms/step - accuracy: 0.8822 - loss: 0.3142 - val_accuracy: 0.8110 - val_loss: 0.5098\n",
            "Epoch 61/100\n",
            "\u001b[1m41/41\u001b[0m \u001b[32m━━━━━━━━━━━━━━━━━━━━\u001b[0m\u001b[37m\u001b[0m \u001b[1m0s\u001b[0m 4ms/step - accuracy: 0.9030 - loss: 0.2934 - val_accuracy: 0.8232 - val_loss: 0.4955\n",
            "Epoch 62/100\n",
            "\u001b[1m41/41\u001b[0m \u001b[32m━━━━━━━━━━━━━━━━━━━━\u001b[0m\u001b[37m\u001b[0m \u001b[1m0s\u001b[0m 5ms/step - accuracy: 0.9046 - loss: 0.3135 - val_accuracy: 0.8354 - val_loss: 0.4969\n",
            "Epoch 63/100\n",
            "\u001b[1m41/41\u001b[0m \u001b[32m━━━━━━━━━━━━━━━━━━━━\u001b[0m\u001b[37m\u001b[0m \u001b[1m0s\u001b[0m 4ms/step - accuracy: 0.8975 - loss: 0.3042 - val_accuracy: 0.8354 - val_loss: 0.4946\n",
            "Epoch 64/100\n",
            "\u001b[1m41/41\u001b[0m \u001b[32m━━━━━━━━━━━━━━━━━━━━\u001b[0m\u001b[37m\u001b[0m \u001b[1m0s\u001b[0m 4ms/step - accuracy: 0.8995 - loss: 0.2985 - val_accuracy: 0.8232 - val_loss: 0.5045\n",
            "Epoch 65/100\n",
            "\u001b[1m41/41\u001b[0m \u001b[32m━━━━━━━━━━━━━━━━━━━━\u001b[0m\u001b[37m\u001b[0m \u001b[1m0s\u001b[0m 6ms/step - accuracy: 0.8744 - loss: 0.3141 - val_accuracy: 0.8293 - val_loss: 0.4880\n",
            "Epoch 66/100\n",
            "\u001b[1m41/41\u001b[0m \u001b[32m━━━━━━━━━━━━━━━━━━━━\u001b[0m\u001b[37m\u001b[0m \u001b[1m0s\u001b[0m 9ms/step - accuracy: 0.8915 - loss: 0.3033 - val_accuracy: 0.8110 - val_loss: 0.5234\n",
            "Epoch 67/100\n",
            "\u001b[1m41/41\u001b[0m \u001b[32m━━━━━━━━━━━━━━━━━━━━\u001b[0m\u001b[37m\u001b[0m \u001b[1m1s\u001b[0m 7ms/step - accuracy: 0.9196 - loss: 0.2851 - val_accuracy: 0.8171 - val_loss: 0.4953\n",
            "Epoch 68/100\n",
            "\u001b[1m41/41\u001b[0m \u001b[32m━━━━━━━━━━━━━━━━━━━━\u001b[0m\u001b[37m\u001b[0m \u001b[1m1s\u001b[0m 7ms/step - accuracy: 0.8646 - loss: 0.3417 - val_accuracy: 0.8171 - val_loss: 0.4852\n",
            "Epoch 69/100\n",
            "\u001b[1m41/41\u001b[0m \u001b[32m━━━━━━━━━━━━━━━━━━━━\u001b[0m\u001b[37m\u001b[0m \u001b[1m0s\u001b[0m 7ms/step - accuracy: 0.8958 - loss: 0.3206 - val_accuracy: 0.8293 - val_loss: 0.5182\n",
            "Epoch 70/100\n",
            "\u001b[1m41/41\u001b[0m \u001b[32m━━━━━━━━━━━━━━━━━━━━\u001b[0m\u001b[37m\u001b[0m \u001b[1m0s\u001b[0m 8ms/step - accuracy: 0.8890 - loss: 0.3193 - val_accuracy: 0.8293 - val_loss: 0.5045\n",
            "Epoch 71/100\n",
            "\u001b[1m41/41\u001b[0m \u001b[32m━━━━━━━━━━━━━━━━━━━━\u001b[0m\u001b[37m\u001b[0m \u001b[1m0s\u001b[0m 7ms/step - accuracy: 0.9127 - loss: 0.2680 - val_accuracy: 0.8232 - val_loss: 0.5012\n",
            "Epoch 72/100\n",
            "\u001b[1m41/41\u001b[0m \u001b[32m━━━━━━━━━━━━━━━━━━━━\u001b[0m\u001b[37m\u001b[0m \u001b[1m0s\u001b[0m 7ms/step - accuracy: 0.8928 - loss: 0.3101 - val_accuracy: 0.8232 - val_loss: 0.5210\n",
            "Epoch 73/100\n",
            "\u001b[1m41/41\u001b[0m \u001b[32m━━━━━━━━━━━━━━━━━━━━\u001b[0m\u001b[37m\u001b[0m \u001b[1m0s\u001b[0m 4ms/step - accuracy: 0.8685 - loss: 0.3271 - val_accuracy: 0.8232 - val_loss: 0.5241\n",
            "Epoch 74/100\n",
            "\u001b[1m41/41\u001b[0m \u001b[32m━━━━━━━━━━━━━━━━━━━━\u001b[0m\u001b[37m\u001b[0m \u001b[1m0s\u001b[0m 4ms/step - accuracy: 0.9167 - loss: 0.2561 - val_accuracy: 0.8232 - val_loss: 0.5204\n",
            "Epoch 75/100\n",
            "\u001b[1m41/41\u001b[0m \u001b[32m━━━━━━━━━━━━━━━━━━━━\u001b[0m\u001b[37m\u001b[0m \u001b[1m0s\u001b[0m 4ms/step - accuracy: 0.9069 - loss: 0.2819 - val_accuracy: 0.8354 - val_loss: 0.4929\n",
            "Epoch 76/100\n",
            "\u001b[1m41/41\u001b[0m \u001b[32m━━━━━━━━━━━━━━━━━━━━\u001b[0m\u001b[37m\u001b[0m \u001b[1m0s\u001b[0m 5ms/step - accuracy: 0.9024 - loss: 0.2747 - val_accuracy: 0.8293 - val_loss: 0.5144\n",
            "Epoch 77/100\n",
            "\u001b[1m41/41\u001b[0m \u001b[32m━━━━━━━━━━━━━━━━━━━━\u001b[0m\u001b[37m\u001b[0m \u001b[1m0s\u001b[0m 4ms/step - accuracy: 0.9036 - loss: 0.3297 - val_accuracy: 0.8354 - val_loss: 0.5161\n",
            "Epoch 78/100\n",
            "\u001b[1m41/41\u001b[0m \u001b[32m━━━━━━━━━━━━━━━━━━━━\u001b[0m\u001b[37m\u001b[0m \u001b[1m0s\u001b[0m 3ms/step - accuracy: 0.8796 - loss: 0.3092 - val_accuracy: 0.8354 - val_loss: 0.5307\n",
            "Epoch 79/100\n",
            "\u001b[1m41/41\u001b[0m \u001b[32m━━━━━━━━━━━━━━━━━━━━\u001b[0m\u001b[37m\u001b[0m \u001b[1m0s\u001b[0m 4ms/step - accuracy: 0.8951 - loss: 0.2947 - val_accuracy: 0.8293 - val_loss: 0.5254\n",
            "Epoch 80/100\n",
            "\u001b[1m41/41\u001b[0m \u001b[32m━━━━━━━━━━━━━━━━━━━━\u001b[0m\u001b[37m\u001b[0m \u001b[1m0s\u001b[0m 4ms/step - accuracy: 0.8883 - loss: 0.3283 - val_accuracy: 0.8293 - val_loss: 0.4914\n",
            "Epoch 81/100\n",
            "\u001b[1m41/41\u001b[0m \u001b[32m━━━━━━━━━━━━━━━━━━━━\u001b[0m\u001b[37m\u001b[0m \u001b[1m0s\u001b[0m 4ms/step - accuracy: 0.8973 - loss: 0.2982 - val_accuracy: 0.8232 - val_loss: 0.5177\n",
            "Epoch 82/100\n",
            "\u001b[1m41/41\u001b[0m \u001b[32m━━━━━━━━━━━━━━━━━━━━\u001b[0m\u001b[37m\u001b[0m \u001b[1m0s\u001b[0m 4ms/step - accuracy: 0.8961 - loss: 0.3023 - val_accuracy: 0.8293 - val_loss: 0.5336\n",
            "Epoch 83/100\n",
            "\u001b[1m41/41\u001b[0m \u001b[32m━━━━━━━━━━━━━━━━━━━━\u001b[0m\u001b[37m\u001b[0m \u001b[1m0s\u001b[0m 4ms/step - accuracy: 0.8957 - loss: 0.2886 - val_accuracy: 0.8232 - val_loss: 0.5318\n",
            "Epoch 84/100\n",
            "\u001b[1m41/41\u001b[0m \u001b[32m━━━━━━━━━━━━━━━━━━━━\u001b[0m\u001b[37m\u001b[0m \u001b[1m0s\u001b[0m 4ms/step - accuracy: 0.8896 - loss: 0.2745 - val_accuracy: 0.8171 - val_loss: 0.5329\n",
            "Epoch 85/100\n",
            "\u001b[1m41/41\u001b[0m \u001b[32m━━━━━━━━━━━━━━━━━━━━\u001b[0m\u001b[37m\u001b[0m \u001b[1m0s\u001b[0m 4ms/step - accuracy: 0.9232 - loss: 0.2306 - val_accuracy: 0.8232 - val_loss: 0.5557\n",
            "Epoch 86/100\n",
            "\u001b[1m41/41\u001b[0m \u001b[32m━━━━━━━━━━━━━━━━━━━━\u001b[0m\u001b[37m\u001b[0m \u001b[1m0s\u001b[0m 4ms/step - accuracy: 0.9071 - loss: 0.2673 - val_accuracy: 0.8171 - val_loss: 0.5500\n",
            "Epoch 87/100\n",
            "\u001b[1m41/41\u001b[0m \u001b[32m━━━━━━━━━━━━━━━━━━━━\u001b[0m\u001b[37m\u001b[0m \u001b[1m0s\u001b[0m 4ms/step - accuracy: 0.8867 - loss: 0.3059 - val_accuracy: 0.8049 - val_loss: 0.5344\n",
            "Epoch 88/100\n",
            "\u001b[1m41/41\u001b[0m \u001b[32m━━━━━━━━━━━━━━━━━━━━\u001b[0m\u001b[37m\u001b[0m \u001b[1m0s\u001b[0m 4ms/step - accuracy: 0.9180 - loss: 0.2669 - val_accuracy: 0.8293 - val_loss: 0.4924\n",
            "Epoch 89/100\n",
            "\u001b[1m41/41\u001b[0m \u001b[32m━━━━━━━━━━━━━━━━━━━━\u001b[0m\u001b[37m\u001b[0m \u001b[1m0s\u001b[0m 4ms/step - accuracy: 0.9159 - loss: 0.2385 - val_accuracy: 0.8171 - val_loss: 0.5156\n",
            "Epoch 90/100\n",
            "\u001b[1m41/41\u001b[0m \u001b[32m━━━━━━━━━━━━━━━━━━━━\u001b[0m\u001b[37m\u001b[0m \u001b[1m0s\u001b[0m 4ms/step - accuracy: 0.9208 - loss: 0.2711 - val_accuracy: 0.8232 - val_loss: 0.5277\n",
            "Epoch 91/100\n",
            "\u001b[1m41/41\u001b[0m \u001b[32m━━━━━━━━━━━━━━━━━━━━\u001b[0m\u001b[37m\u001b[0m \u001b[1m0s\u001b[0m 4ms/step - accuracy: 0.8756 - loss: 0.3011 - val_accuracy: 0.8354 - val_loss: 0.5154\n",
            "Epoch 92/100\n",
            "\u001b[1m41/41\u001b[0m \u001b[32m━━━━━━━━━━━━━━━━━━━━\u001b[0m\u001b[37m\u001b[0m \u001b[1m0s\u001b[0m 5ms/step - accuracy: 0.8900 - loss: 0.2932 - val_accuracy: 0.8415 - val_loss: 0.5375\n",
            "Epoch 93/100\n",
            "\u001b[1m41/41\u001b[0m \u001b[32m━━━━━━━━━━━━━━━━━━━━\u001b[0m\u001b[37m\u001b[0m \u001b[1m0s\u001b[0m 4ms/step - accuracy: 0.9234 - loss: 0.2804 - val_accuracy: 0.8171 - val_loss: 0.5718\n",
            "Epoch 94/100\n",
            "\u001b[1m41/41\u001b[0m \u001b[32m━━━━━━━━━━━━━━━━━━━━\u001b[0m\u001b[37m\u001b[0m \u001b[1m0s\u001b[0m 4ms/step - accuracy: 0.9282 - loss: 0.2339 - val_accuracy: 0.8354 - val_loss: 0.5572\n",
            "Epoch 95/100\n",
            "\u001b[1m41/41\u001b[0m \u001b[32m━━━━━━━━━━━━━━━━━━━━\u001b[0m\u001b[37m\u001b[0m \u001b[1m0s\u001b[0m 4ms/step - accuracy: 0.9140 - loss: 0.2617 - val_accuracy: 0.8110 - val_loss: 0.5563\n",
            "Epoch 96/100\n",
            "\u001b[1m41/41\u001b[0m \u001b[32m━━━━━━━━━━━━━━━━━━━━\u001b[0m\u001b[37m\u001b[0m \u001b[1m0s\u001b[0m 5ms/step - accuracy: 0.9321 - loss: 0.2331 - val_accuracy: 0.8171 - val_loss: 0.5411\n",
            "Epoch 97/100\n",
            "\u001b[1m41/41\u001b[0m \u001b[32m━━━━━━━━━━━━━━━━━━━━\u001b[0m\u001b[37m\u001b[0m \u001b[1m0s\u001b[0m 4ms/step - accuracy: 0.9337 - loss: 0.2668 - val_accuracy: 0.8354 - val_loss: 0.5241\n",
            "Epoch 98/100\n",
            "\u001b[1m41/41\u001b[0m \u001b[32m━━━━━━━━━━━━━━━━━━━━\u001b[0m\u001b[37m\u001b[0m \u001b[1m0s\u001b[0m 4ms/step - accuracy: 0.9197 - loss: 0.2470 - val_accuracy: 0.8232 - val_loss: 0.5338\n",
            "Epoch 99/100\n",
            "\u001b[1m41/41\u001b[0m \u001b[32m━━━━━━━━━━━━━━━━━━━━\u001b[0m\u001b[37m\u001b[0m \u001b[1m0s\u001b[0m 4ms/step - accuracy: 0.8986 - loss: 0.2944 - val_accuracy: 0.8293 - val_loss: 0.5249\n",
            "Epoch 100/100\n",
            "\u001b[1m41/41\u001b[0m \u001b[32m━━━━━━━━━━━━━━━━━━━━\u001b[0m\u001b[37m\u001b[0m \u001b[1m0s\u001b[0m 5ms/step - accuracy: 0.9395 - loss: 0.2400 - val_accuracy: 0.8232 - val_loss: 0.5163\n"
          ]
        }
      ]
    },
    {
      "cell_type": "code",
      "source": [
        "# Predict on test set\n",
        "# The predict statement produces a boolean value that is converted into Numerical data using the astype()\n",
        "y_pred_fold = (model.predict(X_val_fold) > 0.5).astype('int32')"
      ],
      "metadata": {
        "colab": {
          "base_uri": "https://localhost:8080/"
        },
        "id": "ZreoXEDORllW",
        "outputId": "83ad0b4e-e23b-4d14-a654-c1fb7bfa14eb"
      },
      "execution_count": 49,
      "outputs": [
        {
          "output_type": "stream",
          "name": "stdout",
          "text": [
            "\u001b[1m13/13\u001b[0m \u001b[32m━━━━━━━━━━━━━━━━━━━━\u001b[0m\u001b[37m\u001b[0m \u001b[1m0s\u001b[0m 8ms/step\n"
          ]
        }
      ]
    },
    {
      "cell_type": "markdown",
      "source": [
        "# Evaluation"
      ],
      "metadata": {
        "id": "FvugwzENO34i"
      }
    },
    {
      "cell_type": "code",
      "source": [
        "# Accuracy\n",
        "accuracy = accuracy_score(y_val_fold, y_pred_fold)\n",
        "print(f\"Accuracy: {accuracy * 100:.2f}%\")"
      ],
      "metadata": {
        "colab": {
          "base_uri": "https://localhost:8080/"
        },
        "id": "HAJrj6-gRngV",
        "outputId": "532d55ac-53d8-4938-e1b8-6c6093585d74"
      },
      "execution_count": 50,
      "outputs": [
        {
          "output_type": "stream",
          "name": "stdout",
          "text": [
            "Accuracy: 81.17%\n"
          ]
        }
      ]
    },
    {
      "cell_type": "code",
      "source": [
        "# Confusion matrix\n",
        "print(\"\\nConfusion Matrix:\\n\", confusion_matrix(y_val_fold, y_pred_fold))"
      ],
      "metadata": {
        "colab": {
          "base_uri": "https://localhost:8080/"
        },
        "id": "74TW4dqDR0Sx",
        "outputId": "c3b446b7-3fd3-429c-b313-8055a62fbfde"
      },
      "execution_count": 51,
      "outputs": [
        {
          "output_type": "stream",
          "name": "stdout",
          "text": [
            "\n",
            "Confusion Matrix:\n",
            " [[228  34]\n",
            " [ 43 104]]\n"
          ]
        }
      ]
    },
    {
      "cell_type": "code",
      "source": [
        "# Classification report\n",
        "print(\"\\nClassification Report:\\n\", classification_report(y_val_fold, y_pred_fold))"
      ],
      "metadata": {
        "colab": {
          "base_uri": "https://localhost:8080/"
        },
        "id": "sLJCGr3XR2B4",
        "outputId": "c517528e-c70d-4be7-de72-403703a044f1"
      },
      "execution_count": 52,
      "outputs": [
        {
          "output_type": "stream",
          "name": "stdout",
          "text": [
            "\n",
            "Classification Report:\n",
            "               precision    recall  f1-score   support\n",
            "\n",
            "           0       0.84      0.87      0.86       262\n",
            "           1       0.75      0.71      0.73       147\n",
            "\n",
            "    accuracy                           0.81       409\n",
            "   macro avg       0.80      0.79      0.79       409\n",
            "weighted avg       0.81      0.81      0.81       409\n",
            "\n"
          ]
        }
      ]
    },
    {
      "cell_type": "markdown",
      "source": [
        "#New Patient data"
      ],
      "metadata": {
        "id": "mgQFp-y8OREi"
      }
    },
    {
      "cell_type": "code",
      "source": [
        "# Predict whether the new patient has Osterioporosis\n",
        "\n",
        "def predict_new(patient_data):\n",
        "    \"\"\"\n",
        "    Predict if a new patient has osteoporosis using the trained neural network model.\n",
        "    Args:\n",
        "        patient_data: Data with the same number of features as the model input.\n",
        "    Returns:\n",
        "        0 = No Osteoporosis or 1 = Osteoporosis\n",
        "    \"\"\"\n",
        "    patient_scaled = scaler.transform([patient_data])  # Scale the data\n",
        "    prediction = (model.predict(patient_scaled) > 0.5).astype('int32')  # Predict\n",
        "    print(prediction)\n",
        "    return prediction[0][0]"
      ],
      "metadata": {
        "id": "fiBHj8h6R_-f"
      },
      "execution_count": 53,
      "outputs": []
    },
    {
      "cell_type": "code",
      "source": [
        "#Getting the input from the user using Try and Except method\n",
        "def get_patient():\n",
        "    while True:  # Input validation loop\n",
        "        try:\n",
        "            gender = int(input(\"Gender (1 for Female, 2 for Male): \"))\n",
        "            if gender not in (1, 2):\n",
        "                raise ValueError\n",
        "            age = int(input(\"Age: \"))\n",
        "            height = float(input(\"Height (in cm): \"))\n",
        "            weight = float(input(\"Weight (in kg): \"))\n",
        "            bmi = weight/((height/100)**2)\n",
        "            l1_4 = float(input(\"L1-4: \"))\n",
        "            l1_4t = float(input(\"L1.4T: \"))\n",
        "            fn = float(input(\"FN: \"))\n",
        "            fnt = float(input(\"FNT: \"))\n",
        "            tl = float(input(\"TL: \"))\n",
        "            tlt = float(input(\"TLT: \"))\n",
        "            alt = float(input(\"ALT: \"))\n",
        "            ast = float(input(\"AST: \"))\n",
        "            bun = float(input(\"BUN: \"))\n",
        "            crea = float(input(\"CREA: \"))\n",
        "            uric = float(input(\"URIC: \"))\n",
        "            fbg = float(input(\"FBG: \"))\n",
        "            hdl_c = float(input(\"HDL-C: \"))\n",
        "            ldl_c = float(input(\"LDL-C: \"))\n",
        "            ca = float(input(\"Ca: \"))\n",
        "            p = float(input(\"P: \"))\n",
        "            mg = float(input(\"Mg: \"))\n",
        "            calsium = float(input(\"Calsium (duplicate column, please check your data): \"))\n",
        "            calcitriol = float(input(\"Calcitriol: \"))\n",
        "            bisphosphonate = int(input(\"Bisphosphonate use (0 for No, 1 for Yes): \"))\n",
        "            if bisphosphonate not in (0, 1):\n",
        "                raise ValueError\n",
        "            calcitonin = int(input(\"Calcitonin use (0 for No, 1 for Yes): \"))\n",
        "            if calcitonin not in (0, 1):\n",
        "                raise ValueError\n",
        "            htn = int(input(\"Hypertension (0 for No, 1 for Yes): \"))\n",
        "            if htn not in (0, 1):\n",
        "                raise ValueError\n",
        "            copd = int(input(\"COPD (0 for No, 1 for Yes): \"))\n",
        "            if copd not in (0, 1):\n",
        "                raise ValueError\n",
        "            dm = int(input(\"DM (0 for No, 1 for Yes): \"))\n",
        "            if dm not in (0, 1):\n",
        "                raise ValueError\n",
        "            hyperlipidaemia = int(input(\"Hyperlipidaemia (0 for No, 1 for Yes): \"))\n",
        "            if hyperlipidaemia not in (0, 1):\n",
        "                raise ValueError\n",
        "            hyperuricemia = int(input(\"Hyperuricemia (0 for No, 1 for Yes): \"))\n",
        "            if hyperuricemia not in (0, 1):\n",
        "                raise ValueError\n",
        "            as_val = int(input(\"AS (0 for No, 1 for Yes): \"))\n",
        "            if as_val not in (0, 1):\n",
        "                raise ValueError\n",
        "            vt = int(input(\"VT (0 for No, 1 for Yes): \"))\n",
        "            if vt not in (0, 1):\n",
        "                raise ValueError\n",
        "            vd = int(input(\"VD (0 for No, 1 for Yes): \"))\n",
        "            if vd not in (0, 1):\n",
        "                raise ValueError\n",
        "            cad = int(input(\"CAD (0 for No, 1 for Yes): \"))\n",
        "            if cad not in (0, 1):\n",
        "                raise ValueError\n",
        "            ckd = int(input(\"CKD (0 for No, 1 for Yes): \"))\n",
        "            if ckd not in (0, 1):\n",
        "                raise ValueError\n",
        "            fracture = int(input(\"Fracture (0 for No, 1 for Yes): \"))\n",
        "            if fracture not in (0, 1):\n",
        "                raise ValueError\n",
        "            smoking = int(input(\"Smoking (0 for No, 1 for Yes): \"))\n",
        "            if smoking not in (0, 1):\n",
        "                raise ValueError\n",
        "            drinking = int(input(\"Drinking (0 for No, 1 for Yes): \"))\n",
        "            if drinking not in (0, 1):\n",
        "                raise ValueError\n",
        "\n",
        "            break # Exit loop if input is valid\n",
        "\n",
        "        except ValueError:\n",
        "            print(\"Invalid input. Please enter a valid number.\")\n",
        "        except Exception as e: # Catch other errors\n",
        "            print(f\"An error occurred: {e}\")\n",
        "\n",
        "    patient_data = [gender, age, height, weight, bmi, l1_4, l1_4t, fn, fnt, tl, tlt, alt, ast, bun, crea, uric, fbg, hdl_c, ldl_c, ca, p, mg, calsium, calcitriol, bisphosphonate, calcitonin, htn, copd, dm, hyperlipidaemia, hyperuricemia, as_val, vt, vd, cad, ckd, fracture, smoking, drinking]\n",
        "    return patient_data"
      ],
      "metadata": {
        "id": "gbOUPDCdKu5x"
      },
      "execution_count": 54,
      "outputs": []
    },
    {
      "cell_type": "code",
      "source": [
        "# Sample patient data\n",
        "patient = [\n",
        "    1,      # Gender (1 = Male, 2 = Female)\n",
        "    55,     # Age (in years)\n",
        "    160,    # Height (in cm)\n",
        "    65,     # Weight (in kg)\n",
        "    25.4,   # BMI (Body Mass Index)\n",
        "    0.85,   # L1-4 (Bone density measure)\n",
        "    0.77,   # L1.4T (Bone density measure)\n",
        "    0.9,    # FN (Bone density measure)\n",
        "    0.85,   # FNT (Bone density measure)\n",
        "    0.7,    # TL (Bone density measure)\n",
        "    0.72,   # TLT (Bone density measure)\n",
        "    0.85,   # ALT (Alanine Transaminase level)\n",
        "    1.2,    # AST (Aspartate Transaminase level)\n",
        "    15.0,   # BUN (Blood Urea Nitrogen level)\n",
        "    0.85,   # CREA (Creatinine level)\n",
        "    5.6,    # URIC (Uric acid level)\n",
        "    95,     # FBG (Fasting Blood Glucose level)\n",
        "    45,     # HDL-C (High-Density Lipoprotein Cholesterol)\n",
        "    120,    # LDL-C (Low-Density Lipoprotein Cholesterol)\n",
        "    9.5,    # Ca (Calcium level)\n",
        "    3.9,    # P (Phosphorus level)\n",
        "    2.1,    # Mg (Magnesium level)\n",
        "    9.0,    # Calcium (level)\n",
        "    32.0,   # Calcitriol (Vitamin D3 level)\n",
        "    1,      # Bisphosphonate (1 = Yes, 0 = No)\n",
        "    0,      # Calcitonin (1 = Yes, 0 = No)\n",
        "    1,      # HTN (Hypertension, 1 = Yes, 0 = No)\n",
        "    0,      # COPD (Chronic Obstructive Pulmonary Disease, 1 = Yes, 0 = No)\n",
        "    0,      # DM (Diabetes Mellitus, 1 = Yes, 0 = No)\n",
        "    1,      # Hyperlipidemia (1 = Yes, 0 = No)\n",
        "    0,      # Hyperuricemia (1 = Yes, 0 = No)\n",
        "    0,      # AS (Aortic Stenosis, 1 = Yes, 0 = No)\n",
        "    0,      # VT (Ventricular Tachycardia, 1 = Yes, 0 = No)\n",
        "    0,      # VD (Valvular Disease, 1 = Yes, 0 = No)\n",
        "    1,      # CAD (Coronary Artery Disease, 1 = Yes, 0 = No)\n",
        "    0,      # CKD (Chronic Kidney Disease, 1 = Yes, 0 = No)\n",
        "    1,      # Fracture (1 = Yes, 0 = No)\n",
        "    0,      # Smoking (1 = Yes, 0 = No)\n",
        "    1      # Drinking (1 = Yes, 0 = No)\n",
        "    #1        OP (Osteoporosis, 1 = Yes, 0 = No) — This is usually the target variable, not used as an input\n",
        "]\n"
      ],
      "metadata": {
        "id": "y1na8sjmNNul"
      },
      "execution_count": 55,
      "outputs": []
    },
    {
      "cell_type": "code",
      "source": [
        "# Diagnoising the patient based on his reports and finding the probability\n",
        "\n",
        "#patient=get_patient()\n",
        "print(\"Prediction for new patient for Osteoporosis:\")\n",
        "print(f\"You have {accuracy * 100:.2f}% chance that the result is :\"+ \"Positive\" if predict_new(patient)==1 else \"Negative\")\n"
      ],
      "metadata": {
        "colab": {
          "base_uri": "https://localhost:8080/"
        },
        "id": "mMQpEjGuSCcz",
        "outputId": "37a85a93-1937-48f1-ea25-d275e90dbae5"
      },
      "execution_count": 56,
      "outputs": [
        {
          "output_type": "stream",
          "name": "stdout",
          "text": [
            "Prediction for new patient for Osteoporosis:\n",
            "\u001b[1m1/1\u001b[0m \u001b[32m━━━━━━━━━━━━━━━━━━━━\u001b[0m\u001b[37m\u001b[0m \u001b[1m0s\u001b[0m 23ms/step\n",
            "[[1]]\n",
            "You have 81.17% chance that the result is :Positive\n"
          ]
        },
        {
          "output_type": "stream",
          "name": "stderr",
          "text": [
            "/usr/local/lib/python3.10/dist-packages/sklearn/base.py:493: UserWarning: X does not have valid feature names, but StandardScaler was fitted with feature names\n",
            "  warnings.warn(\n"
          ]
        }
      ]
    }
  ]
}