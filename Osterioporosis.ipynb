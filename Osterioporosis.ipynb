{
  "nbformat": 4,
  "nbformat_minor": 0,
  "metadata": {
    "colab": {
      "provenance": [],
      "collapsed_sections": [
        "LUz8pFaOO_OW",
        "FvugwzENO34i",
        "mgQFp-y8OREi"
      ],
      "authorship_tag": "ABX9TyN5skpztAF0LM9Ac8/zQBHG",
      "include_colab_link": true
    },
    "kernelspec": {
      "name": "python3",
      "display_name": "Python 3"
    },
    "language_info": {
      "name": "python"
    }
  },
  "cells": [
    {
      "cell_type": "markdown",
      "metadata": {
        "id": "view-in-github",
        "colab_type": "text"
      },
      "source": [
        "<a href=\"https://colab.research.google.com/github/SaiVardhan19/Osteoporosis/blob/main/Osterioporosis.ipynb\" target=\"_parent\"><img src=\"https://colab.research.google.com/assets/colab-badge.svg\" alt=\"Open In Colab\"/></a>"
      ]
    },
    {
      "cell_type": "markdown",
      "source": [
        "#Importing the Required Libraries"
      ],
      "metadata": {
        "id": "8FOBIKdkPEE-"
      }
    },
    {
      "cell_type": "code",
      "execution_count": 1,
      "metadata": {
        "id": "-YSpEOCFQVKC"
      },
      "outputs": [],
      "source": [
        "import pandas as pd\n",
        "import numpy as np\n",
        "from sklearn.model_selection import train_test_split,KFold\n",
        "from sklearn.preprocessing import StandardScaler, LabelEncoder\n",
        "from sklearn.metrics import accuracy_score, classification_report, confusion_matrix\n",
        "import tensorflow as tf\n",
        "from tensorflow.keras.models import Sequential\n",
        "from tensorflow.keras.layers import Dense, Dropout, BatchNormalization\n"
      ]
    },
    {
      "cell_type": "code",
      "source": [
        "from tensorflow.keras.callbacks import EarlyStopping\n",
        "from tensorflow.keras.regularizers import l2"
      ],
      "metadata": {
        "id": "iLYX3r_Kdrkk"
      },
      "execution_count": 2,
      "outputs": []
    },
    {
      "cell_type": "code",
      "source": [
        "df=pd.read_csv(\"/content/Osteo data.csv\")"
      ],
      "metadata": {
        "id": "SKYpk3DzQcuG"
      },
      "execution_count": 3,
      "outputs": []
    },
    {
      "cell_type": "markdown",
      "source": [
        "# Data Preprocessing"
      ],
      "metadata": {
        "id": "pLHQbKp1Yx-5"
      }
    },
    {
      "cell_type": "code",
      "source": [
        "# Handle missing values\n",
        "# Filling missing values with the median of each column\n",
        "df.fillna(df.median(), inplace=True)"
      ],
      "metadata": {
        "id": "TuaFqVcyQ8PI"
      },
      "execution_count": 4,
      "outputs": []
    },
    {
      "cell_type": "code",
      "source": [
        "# Encoding categorical features (like Smoking, Drinking)\n",
        "label_encoders = {}\n",
        "for column in ['Smoking', 'Drinking']:\n",
        "    if column in df.columns:\n",
        "        le = LabelEncoder()\n",
        "        df[column] = le.fit_transform(df[column])\n",
        "        label_encoders[column] = le\n"
      ],
      "metadata": {
        "id": "tZNscxaQRAVY"
      },
      "execution_count": null,
      "outputs": []
    },
    {
      "cell_type": "code",
      "source": [
        "# Separate features (X) and target (y)\n",
        "X = df.drop(columns=['OP'])  # Drop the target column (Osteoporosis indicator)\n",
        "y = df['OP']  # Target variable\n"
      ],
      "metadata": {
        "id": "pFJim5J-RIQ9"
      },
      "execution_count": 5,
      "outputs": []
    },
    {
      "cell_type": "code",
      "source": [
        "# Split the dataset into training and testing sets (80% train, 20% test)\n",
        "X_train, X_test, y_train, y_test = train_test_split(X, y, test_size=0.2, random_state=42)"
      ],
      "metadata": {
        "id": "I6Mg3mv_UcLX"
      },
      "execution_count": 6,
      "outputs": []
    },
    {
      "cell_type": "code",
      "source": [
        "# Feature Scaling\n",
        "scaler = StandardScaler()\n",
        "X_train = scaler.fit_transform(X_train)\n",
        "X_test = scaler.transform(X_test)"
      ],
      "metadata": {
        "id": "8-tTUOKqRToZ"
      },
      "execution_count": 7,
      "outputs": []
    },
    {
      "cell_type": "code",
      "source": [
        "X_train.shape # Shape of the Training data(Rows,columns)"
      ],
      "metadata": {
        "colab": {
          "base_uri": "https://localhost:8080/"
        },
        "id": "YMCWe5qyVKrU",
        "outputId": "dbb5f082-8499-460f-bb89-662dc5ebfff7"
      },
      "execution_count": 8,
      "outputs": [
        {
          "output_type": "execute_result",
          "data": {
            "text/plain": [
              "(1229, 39)"
            ]
          },
          "metadata": {},
          "execution_count": 8
        }
      ]
    },
    {
      "cell_type": "markdown",
      "source": [
        "# K-Fold and Model Compilation\n",
        "\n"
      ],
      "metadata": {
        "id": "wtErrOoleO8S"
      }
    },
    {
      "cell_type": "code",
      "source": [
        "# 3-fold cross-validation where the data is shuffled before splitting into folds\n",
        "kf = KFold(n_splits=3, shuffle=True, random_state=42)\n",
        "\n",
        "for train_index, val_index in kf.split(X_train, y_train):\n",
        "    X_train_fold, X_val_fold = X_train[train_index], X_train[val_index]\n",
        "    y_train_fold, y_val_fold = y_train.iloc[train_index], y_train.iloc[val_index]\n"
      ],
      "metadata": {
        "id": "cEkGH29feOoR"
      },
      "execution_count": 9,
      "outputs": []
    },
    {
      "cell_type": "code",
      "source": [
        "# Build the Neural Network Model:\n",
        "# Input layer contains 128 neurons and we use L2 regularization to prevent overfitting\n",
        "# Batch normalization is used to stabilize training as it normalises the input component for each layer such that mean=0 and SD=1\n",
        "# Dropout prevents overfitting as it randomly drops neurons during a each iteration to avoid overdependence on that neuron\n",
        "# We use Sigmoid function for the Output Layer as the output is to be classified between 1(Positive) and 0(Negative)\n",
        "\n",
        "model = Sequential([\n",
        "    Dense(128, input_dim=X_train.shape[1], activation='relu', kernel_regularizer=l2(0.001)),  # Input Layer\n",
        "    BatchNormalization(),\n",
        "    Dropout(0.5),\n",
        "    Dense(64, activation='relu'), # Hidden Layer 1\n",
        "    BatchNormalization(),\n",
        "    Dropout(0.4),\n",
        "    Dense(32, activation='relu'), # Hidden Layer 2\n",
        "    Dropout(0.3),\n",
        "    Dense(1, activation='sigmoid') #Output Layer\n",
        "])"
      ],
      "metadata": {
        "colab": {
          "base_uri": "https://localhost:8080/"
        },
        "id": "-TfQkARCRVtV",
        "outputId": "e13b3fee-0dce-48d2-985b-d53e7c07a8ea"
      },
      "execution_count": 10,
      "outputs": [
        {
          "output_type": "stream",
          "name": "stderr",
          "text": [
            "/usr/local/lib/python3.10/dist-packages/keras/src/layers/core/dense.py:87: UserWarning: Do not pass an `input_shape`/`input_dim` argument to a layer. When using Sequential models, prefer using an `Input(shape)` object as the first layer in the model instead.\n",
            "  super().__init__(activity_regularizer=activity_regularizer, **kwargs)\n"
          ]
        }
      ]
    },
    {
      "cell_type": "code",
      "source": [
        "# This is used to stop processing/training the data when the the validation accuracy meets the converging point i.e, when the accuracy starts to drop\n",
        "# Patience=5 indicates the number of epocs the model must wait to stop the training\n",
        "early_stopping = EarlyStopping(monitor='val_accuracy', patience=5)"
      ],
      "metadata": {
        "id": "frjd8x5Ociwt"
      },
      "execution_count": 11,
      "outputs": []
    },
    {
      "cell_type": "code",
      "source": [
        "# Compile the model using Adam(Adaptive Moment Estimation) optimiser\n",
        "model.compile(optimizer='adam', loss='binary_crossentropy', metrics=['accuracy'])"
      ],
      "metadata": {
        "id": "lXDDMzD-RcI0"
      },
      "execution_count": 12,
      "outputs": []
    },
    {
      "cell_type": "code",
      "source": [
        "# Train the model:\n",
        "history = model.fit(X_train_fold, y_train_fold, epochs=100, batch_size=16, validation_split=0.2, verbose=1)"
      ],
      "metadata": {
        "colab": {
          "base_uri": "https://localhost:8080/"
        },
        "collapsed": true,
        "id": "x1_k_hpaRgrv",
        "outputId": "5175bca3-da7d-4cf9-bdad-babc14a24e52"
      },
      "execution_count": 13,
      "outputs": [
        {
          "output_type": "stream",
          "name": "stdout",
          "text": [
            "Epoch 1/100\n",
            "\u001b[1m41/41\u001b[0m \u001b[32m━━━━━━━━━━━━━━━━━━━━\u001b[0m\u001b[37m\u001b[0m \u001b[1m7s\u001b[0m 33ms/step - accuracy: 0.5647 - loss: 0.9229 - val_accuracy: 0.7439 - val_loss: 0.6674\n",
            "Epoch 2/100\n",
            "\u001b[1m41/41\u001b[0m \u001b[32m━━━━━━━━━━━━━━━━━━━━\u001b[0m\u001b[37m\u001b[0m \u001b[1m0s\u001b[0m 6ms/step - accuracy: 0.6657 - loss: 0.7819 - val_accuracy: 0.7805 - val_loss: 0.5978\n",
            "Epoch 3/100\n",
            "\u001b[1m41/41\u001b[0m \u001b[32m━━━━━━━━━━━━━━━━━━━━\u001b[0m\u001b[37m\u001b[0m \u001b[1m0s\u001b[0m 6ms/step - accuracy: 0.7309 - loss: 0.6623 - val_accuracy: 0.7927 - val_loss: 0.5536\n",
            "Epoch 4/100\n",
            "\u001b[1m41/41\u001b[0m \u001b[32m━━━━━━━━━━━━━━━━━━━━\u001b[0m\u001b[37m\u001b[0m \u001b[1m0s\u001b[0m 6ms/step - accuracy: 0.7405 - loss: 0.6743 - val_accuracy: 0.7866 - val_loss: 0.5314\n",
            "Epoch 5/100\n",
            "\u001b[1m41/41\u001b[0m \u001b[32m━━━━━━━━━━━━━━━━━━━━\u001b[0m\u001b[37m\u001b[0m \u001b[1m0s\u001b[0m 7ms/step - accuracy: 0.7801 - loss: 0.5358 - val_accuracy: 0.8110 - val_loss: 0.5164\n",
            "Epoch 6/100\n",
            "\u001b[1m41/41\u001b[0m \u001b[32m━━━━━━━━━━━━━━━━━━━━\u001b[0m\u001b[37m\u001b[0m \u001b[1m0s\u001b[0m 3ms/step - accuracy: 0.7782 - loss: 0.5548 - val_accuracy: 0.8110 - val_loss: 0.5044\n",
            "Epoch 7/100\n",
            "\u001b[1m41/41\u001b[0m \u001b[32m━━━━━━━━━━━━━━━━━━━━\u001b[0m\u001b[37m\u001b[0m \u001b[1m0s\u001b[0m 3ms/step - accuracy: 0.7682 - loss: 0.5703 - val_accuracy: 0.8110 - val_loss: 0.4880\n",
            "Epoch 8/100\n",
            "\u001b[1m41/41\u001b[0m \u001b[32m━━━━━━━━━━━━━━━━━━━━\u001b[0m\u001b[37m\u001b[0m \u001b[1m0s\u001b[0m 3ms/step - accuracy: 0.8046 - loss: 0.5418 - val_accuracy: 0.8354 - val_loss: 0.4789\n",
            "Epoch 9/100\n",
            "\u001b[1m41/41\u001b[0m \u001b[32m━━━━━━━━━━━━━━━━━━━━\u001b[0m\u001b[37m\u001b[0m \u001b[1m0s\u001b[0m 3ms/step - accuracy: 0.7798 - loss: 0.5213 - val_accuracy: 0.8232 - val_loss: 0.4794\n",
            "Epoch 10/100\n",
            "\u001b[1m41/41\u001b[0m \u001b[32m━━━━━━━━━━━━━━━━━━━━\u001b[0m\u001b[37m\u001b[0m \u001b[1m0s\u001b[0m 3ms/step - accuracy: 0.7708 - loss: 0.5705 - val_accuracy: 0.8354 - val_loss: 0.4794\n",
            "Epoch 11/100\n",
            "\u001b[1m41/41\u001b[0m \u001b[32m━━━━━━━━━━━━━━━━━━━━\u001b[0m\u001b[37m\u001b[0m \u001b[1m0s\u001b[0m 3ms/step - accuracy: 0.7921 - loss: 0.5661 - val_accuracy: 0.8354 - val_loss: 0.4760\n",
            "Epoch 12/100\n",
            "\u001b[1m41/41\u001b[0m \u001b[32m━━━━━━━━━━━━━━━━━━━━\u001b[0m\u001b[37m\u001b[0m \u001b[1m0s\u001b[0m 3ms/step - accuracy: 0.8067 - loss: 0.4767 - val_accuracy: 0.8354 - val_loss: 0.4777\n",
            "Epoch 13/100\n",
            "\u001b[1m41/41\u001b[0m \u001b[32m━━━━━━━━━━━━━━━━━━━━\u001b[0m\u001b[37m\u001b[0m \u001b[1m0s\u001b[0m 3ms/step - accuracy: 0.7788 - loss: 0.5185 - val_accuracy: 0.8354 - val_loss: 0.4787\n",
            "Epoch 14/100\n",
            "\u001b[1m41/41\u001b[0m \u001b[32m━━━━━━━━━━━━━━━━━━━━\u001b[0m\u001b[37m\u001b[0m \u001b[1m0s\u001b[0m 3ms/step - accuracy: 0.8124 - loss: 0.4849 - val_accuracy: 0.8293 - val_loss: 0.4829\n",
            "Epoch 15/100\n",
            "\u001b[1m41/41\u001b[0m \u001b[32m━━━━━━━━━━━━━━━━━━━━\u001b[0m\u001b[37m\u001b[0m \u001b[1m0s\u001b[0m 3ms/step - accuracy: 0.8360 - loss: 0.4281 - val_accuracy: 0.8293 - val_loss: 0.4879\n",
            "Epoch 16/100\n",
            "\u001b[1m41/41\u001b[0m \u001b[32m━━━━━━━━━━━━━━━━━━━━\u001b[0m\u001b[37m\u001b[0m \u001b[1m0s\u001b[0m 3ms/step - accuracy: 0.8060 - loss: 0.4726 - val_accuracy: 0.8171 - val_loss: 0.4851\n",
            "Epoch 17/100\n",
            "\u001b[1m41/41\u001b[0m \u001b[32m━━━━━━━━━━━━━━━━━━━━\u001b[0m\u001b[37m\u001b[0m \u001b[1m0s\u001b[0m 3ms/step - accuracy: 0.8452 - loss: 0.4152 - val_accuracy: 0.8110 - val_loss: 0.5016\n",
            "Epoch 18/100\n",
            "\u001b[1m41/41\u001b[0m \u001b[32m━━━━━━━━━━━━━━━━━━━━\u001b[0m\u001b[37m\u001b[0m \u001b[1m0s\u001b[0m 3ms/step - accuracy: 0.8373 - loss: 0.4859 - val_accuracy: 0.8110 - val_loss: 0.4908\n",
            "Epoch 19/100\n",
            "\u001b[1m41/41\u001b[0m \u001b[32m━━━━━━━━━━━━━━━━━━━━\u001b[0m\u001b[37m\u001b[0m \u001b[1m0s\u001b[0m 3ms/step - accuracy: 0.8195 - loss: 0.4385 - val_accuracy: 0.8232 - val_loss: 0.4798\n",
            "Epoch 20/100\n",
            "\u001b[1m41/41\u001b[0m \u001b[32m━━━━━━━━━━━━━━━━━━━━\u001b[0m\u001b[37m\u001b[0m \u001b[1m0s\u001b[0m 3ms/step - accuracy: 0.8275 - loss: 0.4941 - val_accuracy: 0.8049 - val_loss: 0.4801\n",
            "Epoch 21/100\n",
            "\u001b[1m41/41\u001b[0m \u001b[32m━━━━━━━━━━━━━━━━━━━━\u001b[0m\u001b[37m\u001b[0m \u001b[1m0s\u001b[0m 3ms/step - accuracy: 0.8364 - loss: 0.4514 - val_accuracy: 0.8110 - val_loss: 0.4920\n",
            "Epoch 22/100\n",
            "\u001b[1m41/41\u001b[0m \u001b[32m━━━━━━━━━━━━━━━━━━━━\u001b[0m\u001b[37m\u001b[0m \u001b[1m0s\u001b[0m 3ms/step - accuracy: 0.8043 - loss: 0.4418 - val_accuracy: 0.8110 - val_loss: 0.4916\n",
            "Epoch 23/100\n",
            "\u001b[1m41/41\u001b[0m \u001b[32m━━━━━━━━━━━━━━━━━━━━\u001b[0m\u001b[37m\u001b[0m \u001b[1m0s\u001b[0m 3ms/step - accuracy: 0.8015 - loss: 0.4365 - val_accuracy: 0.8049 - val_loss: 0.4884\n",
            "Epoch 24/100\n",
            "\u001b[1m41/41\u001b[0m \u001b[32m━━━━━━━━━━━━━━━━━━━━\u001b[0m\u001b[37m\u001b[0m \u001b[1m0s\u001b[0m 3ms/step - accuracy: 0.8401 - loss: 0.4211 - val_accuracy: 0.8110 - val_loss: 0.4955\n",
            "Epoch 25/100\n",
            "\u001b[1m41/41\u001b[0m \u001b[32m━━━━━━━━━━━━━━━━━━━━\u001b[0m\u001b[37m\u001b[0m \u001b[1m0s\u001b[0m 3ms/step - accuracy: 0.8448 - loss: 0.4495 - val_accuracy: 0.8171 - val_loss: 0.4965\n",
            "Epoch 26/100\n",
            "\u001b[1m41/41\u001b[0m \u001b[32m━━━━━━━━━━━━━━━━━━━━\u001b[0m\u001b[37m\u001b[0m \u001b[1m0s\u001b[0m 3ms/step - accuracy: 0.8508 - loss: 0.3848 - val_accuracy: 0.8293 - val_loss: 0.4969\n",
            "Epoch 27/100\n",
            "\u001b[1m41/41\u001b[0m \u001b[32m━━━━━━━━━━━━━━━━━━━━\u001b[0m\u001b[37m\u001b[0m \u001b[1m0s\u001b[0m 3ms/step - accuracy: 0.8453 - loss: 0.4217 - val_accuracy: 0.8354 - val_loss: 0.4786\n",
            "Epoch 28/100\n",
            "\u001b[1m41/41\u001b[0m \u001b[32m━━━━━━━━━━━━━━━━━━━━\u001b[0m\u001b[37m\u001b[0m \u001b[1m0s\u001b[0m 3ms/step - accuracy: 0.8459 - loss: 0.4109 - val_accuracy: 0.8110 - val_loss: 0.4816\n",
            "Epoch 29/100\n",
            "\u001b[1m41/41\u001b[0m \u001b[32m━━━━━━━━━━━━━━━━━━━━\u001b[0m\u001b[37m\u001b[0m \u001b[1m0s\u001b[0m 3ms/step - accuracy: 0.8667 - loss: 0.3907 - val_accuracy: 0.8171 - val_loss: 0.4761\n",
            "Epoch 30/100\n",
            "\u001b[1m41/41\u001b[0m \u001b[32m━━━━━━━━━━━━━━━━━━━━\u001b[0m\u001b[37m\u001b[0m \u001b[1m0s\u001b[0m 3ms/step - accuracy: 0.8589 - loss: 0.3836 - val_accuracy: 0.8232 - val_loss: 0.4771\n",
            "Epoch 31/100\n",
            "\u001b[1m41/41\u001b[0m \u001b[32m━━━━━━━━━━━━━━━━━━━━\u001b[0m\u001b[37m\u001b[0m \u001b[1m0s\u001b[0m 3ms/step - accuracy: 0.8551 - loss: 0.3878 - val_accuracy: 0.8171 - val_loss: 0.4770\n",
            "Epoch 32/100\n",
            "\u001b[1m41/41\u001b[0m \u001b[32m━━━━━━━━━━━━━━━━━━━━\u001b[0m\u001b[37m\u001b[0m \u001b[1m0s\u001b[0m 3ms/step - accuracy: 0.8570 - loss: 0.3895 - val_accuracy: 0.8232 - val_loss: 0.4792\n",
            "Epoch 33/100\n",
            "\u001b[1m41/41\u001b[0m \u001b[32m━━━━━━━━━━━━━━━━━━━━\u001b[0m\u001b[37m\u001b[0m \u001b[1m0s\u001b[0m 3ms/step - accuracy: 0.8645 - loss: 0.3749 - val_accuracy: 0.8293 - val_loss: 0.4861\n",
            "Epoch 34/100\n",
            "\u001b[1m41/41\u001b[0m \u001b[32m━━━━━━━━━━━━━━━━━━━━\u001b[0m\u001b[37m\u001b[0m \u001b[1m0s\u001b[0m 3ms/step - accuracy: 0.8840 - loss: 0.3748 - val_accuracy: 0.8171 - val_loss: 0.4865\n",
            "Epoch 35/100\n",
            "\u001b[1m41/41\u001b[0m \u001b[32m━━━━━━━━━━━━━━━━━━━━\u001b[0m\u001b[37m\u001b[0m \u001b[1m0s\u001b[0m 3ms/step - accuracy: 0.8414 - loss: 0.4168 - val_accuracy: 0.8232 - val_loss: 0.4866\n",
            "Epoch 36/100\n",
            "\u001b[1m41/41\u001b[0m \u001b[32m━━━━━━━━━━━━━━━━━━━━\u001b[0m\u001b[37m\u001b[0m \u001b[1m0s\u001b[0m 3ms/step - accuracy: 0.8269 - loss: 0.4278 - val_accuracy: 0.8110 - val_loss: 0.4916\n",
            "Epoch 37/100\n",
            "\u001b[1m41/41\u001b[0m \u001b[32m━━━━━━━━━━━━━━━━━━━━\u001b[0m\u001b[37m\u001b[0m \u001b[1m0s\u001b[0m 4ms/step - accuracy: 0.8847 - loss: 0.3578 - val_accuracy: 0.8232 - val_loss: 0.4919\n",
            "Epoch 38/100\n",
            "\u001b[1m41/41\u001b[0m \u001b[32m━━━━━━━━━━━━━━━━━━━━\u001b[0m\u001b[37m\u001b[0m \u001b[1m0s\u001b[0m 3ms/step - accuracy: 0.8208 - loss: 0.4328 - val_accuracy: 0.8232 - val_loss: 0.4903\n",
            "Epoch 39/100\n",
            "\u001b[1m41/41\u001b[0m \u001b[32m━━━━━━━━━━━━━━━━━━━━\u001b[0m\u001b[37m\u001b[0m \u001b[1m0s\u001b[0m 3ms/step - accuracy: 0.8540 - loss: 0.3923 - val_accuracy: 0.8110 - val_loss: 0.5072\n",
            "Epoch 40/100\n",
            "\u001b[1m41/41\u001b[0m \u001b[32m━━━━━━━━━━━━━━━━━━━━\u001b[0m\u001b[37m\u001b[0m \u001b[1m0s\u001b[0m 3ms/step - accuracy: 0.8953 - loss: 0.3413 - val_accuracy: 0.8049 - val_loss: 0.5069\n",
            "Epoch 41/100\n",
            "\u001b[1m41/41\u001b[0m \u001b[32m━━━━━━━━━━━━━━━━━━━━\u001b[0m\u001b[37m\u001b[0m \u001b[1m0s\u001b[0m 3ms/step - accuracy: 0.8601 - loss: 0.3690 - val_accuracy: 0.8293 - val_loss: 0.5054\n",
            "Epoch 42/100\n",
            "\u001b[1m41/41\u001b[0m \u001b[32m━━━━━━━━━━━━━━━━━━━━\u001b[0m\u001b[37m\u001b[0m \u001b[1m0s\u001b[0m 3ms/step - accuracy: 0.8660 - loss: 0.3845 - val_accuracy: 0.8232 - val_loss: 0.5076\n",
            "Epoch 43/100\n",
            "\u001b[1m41/41\u001b[0m \u001b[32m━━━━━━━━━━━━━━━━━━━━\u001b[0m\u001b[37m\u001b[0m \u001b[1m0s\u001b[0m 3ms/step - accuracy: 0.8435 - loss: 0.4113 - val_accuracy: 0.8110 - val_loss: 0.5079\n",
            "Epoch 44/100\n",
            "\u001b[1m41/41\u001b[0m \u001b[32m━━━━━━━━━━━━━━━━━━━━\u001b[0m\u001b[37m\u001b[0m \u001b[1m0s\u001b[0m 3ms/step - accuracy: 0.8764 - loss: 0.3516 - val_accuracy: 0.8110 - val_loss: 0.5058\n",
            "Epoch 45/100\n",
            "\u001b[1m41/41\u001b[0m \u001b[32m━━━━━━━━━━━━━━━━━━━━\u001b[0m\u001b[37m\u001b[0m \u001b[1m0s\u001b[0m 3ms/step - accuracy: 0.8982 - loss: 0.3138 - val_accuracy: 0.8232 - val_loss: 0.5133\n",
            "Epoch 46/100\n",
            "\u001b[1m41/41\u001b[0m \u001b[32m━━━━━━━━━━━━━━━━━━━━\u001b[0m\u001b[37m\u001b[0m \u001b[1m0s\u001b[0m 3ms/step - accuracy: 0.8729 - loss: 0.3674 - val_accuracy: 0.8232 - val_loss: 0.5098\n",
            "Epoch 47/100\n",
            "\u001b[1m41/41\u001b[0m \u001b[32m━━━━━━━━━━━━━━━━━━━━\u001b[0m\u001b[37m\u001b[0m \u001b[1m0s\u001b[0m 3ms/step - accuracy: 0.8757 - loss: 0.3514 - val_accuracy: 0.8171 - val_loss: 0.4901\n",
            "Epoch 48/100\n",
            "\u001b[1m41/41\u001b[0m \u001b[32m━━━━━━━━━━━━━━━━━━━━\u001b[0m\u001b[37m\u001b[0m \u001b[1m0s\u001b[0m 3ms/step - accuracy: 0.8798 - loss: 0.3736 - val_accuracy: 0.8171 - val_loss: 0.4985\n",
            "Epoch 49/100\n",
            "\u001b[1m41/41\u001b[0m \u001b[32m━━━━━━━━━━━━━━━━━━━━\u001b[0m\u001b[37m\u001b[0m \u001b[1m0s\u001b[0m 3ms/step - accuracy: 0.8838 - loss: 0.3151 - val_accuracy: 0.8171 - val_loss: 0.5013\n",
            "Epoch 50/100\n",
            "\u001b[1m41/41\u001b[0m \u001b[32m━━━━━━━━━━━━━━━━━━━━\u001b[0m\u001b[37m\u001b[0m \u001b[1m0s\u001b[0m 4ms/step - accuracy: 0.8816 - loss: 0.3314 - val_accuracy: 0.8110 - val_loss: 0.5055\n",
            "Epoch 51/100\n",
            "\u001b[1m41/41\u001b[0m \u001b[32m━━━━━━━━━━━━━━━━━━━━\u001b[0m\u001b[37m\u001b[0m \u001b[1m0s\u001b[0m 3ms/step - accuracy: 0.8826 - loss: 0.3444 - val_accuracy: 0.8171 - val_loss: 0.4989\n",
            "Epoch 52/100\n",
            "\u001b[1m41/41\u001b[0m \u001b[32m━━━━━━━━━━━━━━━━━━━━\u001b[0m\u001b[37m\u001b[0m \u001b[1m0s\u001b[0m 3ms/step - accuracy: 0.8948 - loss: 0.3239 - val_accuracy: 0.8171 - val_loss: 0.5100\n",
            "Epoch 53/100\n",
            "\u001b[1m41/41\u001b[0m \u001b[32m━━━━━━━━━━━━━━━━━━━━\u001b[0m\u001b[37m\u001b[0m \u001b[1m0s\u001b[0m 3ms/step - accuracy: 0.8669 - loss: 0.3513 - val_accuracy: 0.7866 - val_loss: 0.5221\n",
            "Epoch 54/100\n",
            "\u001b[1m41/41\u001b[0m \u001b[32m━━━━━━━━━━━━━━━━━━━━\u001b[0m\u001b[37m\u001b[0m \u001b[1m0s\u001b[0m 3ms/step - accuracy: 0.8429 - loss: 0.3577 - val_accuracy: 0.8171 - val_loss: 0.5027\n",
            "Epoch 55/100\n",
            "\u001b[1m41/41\u001b[0m \u001b[32m━━━━━━━━━━━━━━━━━━━━\u001b[0m\u001b[37m\u001b[0m \u001b[1m0s\u001b[0m 6ms/step - accuracy: 0.8698 - loss: 0.3538 - val_accuracy: 0.7988 - val_loss: 0.5104\n",
            "Epoch 56/100\n",
            "\u001b[1m41/41\u001b[0m \u001b[32m━━━━━━━━━━━━━━━━━━━━\u001b[0m\u001b[37m\u001b[0m \u001b[1m0s\u001b[0m 6ms/step - accuracy: 0.8916 - loss: 0.3118 - val_accuracy: 0.8171 - val_loss: 0.5061\n",
            "Epoch 57/100\n",
            "\u001b[1m41/41\u001b[0m \u001b[32m━━━━━━━━━━━━━━━━━━━━\u001b[0m\u001b[37m\u001b[0m \u001b[1m0s\u001b[0m 5ms/step - accuracy: 0.8606 - loss: 0.3589 - val_accuracy: 0.8110 - val_loss: 0.5047\n",
            "Epoch 58/100\n",
            "\u001b[1m41/41\u001b[0m \u001b[32m━━━━━━━━━━━━━━━━━━━━\u001b[0m\u001b[37m\u001b[0m \u001b[1m0s\u001b[0m 4ms/step - accuracy: 0.8521 - loss: 0.3705 - val_accuracy: 0.8171 - val_loss: 0.5044\n",
            "Epoch 59/100\n",
            "\u001b[1m41/41\u001b[0m \u001b[32m━━━━━━━━━━━━━━━━━━━━\u001b[0m\u001b[37m\u001b[0m \u001b[1m0s\u001b[0m 5ms/step - accuracy: 0.8998 - loss: 0.2951 - val_accuracy: 0.8110 - val_loss: 0.5059\n",
            "Epoch 60/100\n",
            "\u001b[1m41/41\u001b[0m \u001b[32m━━━━━━━━━━━━━━━━━━━━\u001b[0m\u001b[37m\u001b[0m \u001b[1m0s\u001b[0m 6ms/step - accuracy: 0.8888 - loss: 0.3552 - val_accuracy: 0.7988 - val_loss: 0.5341\n",
            "Epoch 61/100\n",
            "\u001b[1m41/41\u001b[0m \u001b[32m━━━━━━━━━━━━━━━━━━━━\u001b[0m\u001b[37m\u001b[0m \u001b[1m0s\u001b[0m 4ms/step - accuracy: 0.8775 - loss: 0.3646 - val_accuracy: 0.8049 - val_loss: 0.5336\n",
            "Epoch 62/100\n",
            "\u001b[1m41/41\u001b[0m \u001b[32m━━━━━━━━━━━━━━━━━━━━\u001b[0m\u001b[37m\u001b[0m \u001b[1m0s\u001b[0m 6ms/step - accuracy: 0.8817 - loss: 0.3139 - val_accuracy: 0.7927 - val_loss: 0.5275\n",
            "Epoch 63/100\n",
            "\u001b[1m41/41\u001b[0m \u001b[32m━━━━━━━━━━━━━━━━━━━━\u001b[0m\u001b[37m\u001b[0m \u001b[1m0s\u001b[0m 4ms/step - accuracy: 0.8964 - loss: 0.3052 - val_accuracy: 0.7988 - val_loss: 0.5217\n",
            "Epoch 64/100\n",
            "\u001b[1m41/41\u001b[0m \u001b[32m━━━━━━━━━━━━━━━━━━━━\u001b[0m\u001b[37m\u001b[0m \u001b[1m0s\u001b[0m 5ms/step - accuracy: 0.9021 - loss: 0.2991 - val_accuracy: 0.7805 - val_loss: 0.5529\n",
            "Epoch 65/100\n",
            "\u001b[1m41/41\u001b[0m \u001b[32m━━━━━━━━━━━━━━━━━━━━\u001b[0m\u001b[37m\u001b[0m \u001b[1m0s\u001b[0m 5ms/step - accuracy: 0.8998 - loss: 0.2987 - val_accuracy: 0.8049 - val_loss: 0.5266\n",
            "Epoch 66/100\n",
            "\u001b[1m41/41\u001b[0m \u001b[32m━━━━━━━━━━━━━━━━━━━━\u001b[0m\u001b[37m\u001b[0m \u001b[1m0s\u001b[0m 3ms/step - accuracy: 0.8609 - loss: 0.3762 - val_accuracy: 0.8049 - val_loss: 0.5151\n",
            "Epoch 67/100\n",
            "\u001b[1m41/41\u001b[0m \u001b[32m━━━━━━━━━━━━━━━━━━━━\u001b[0m\u001b[37m\u001b[0m \u001b[1m0s\u001b[0m 3ms/step - accuracy: 0.8855 - loss: 0.3211 - val_accuracy: 0.7927 - val_loss: 0.5303\n",
            "Epoch 68/100\n",
            "\u001b[1m41/41\u001b[0m \u001b[32m━━━━━━━━━━━━━━━━━━━━\u001b[0m\u001b[37m\u001b[0m \u001b[1m0s\u001b[0m 3ms/step - accuracy: 0.8593 - loss: 0.3307 - val_accuracy: 0.7927 - val_loss: 0.5427\n",
            "Epoch 69/100\n",
            "\u001b[1m41/41\u001b[0m \u001b[32m━━━━━━━━━━━━━━━━━━━━\u001b[0m\u001b[37m\u001b[0m \u001b[1m0s\u001b[0m 3ms/step - accuracy: 0.9106 - loss: 0.2787 - val_accuracy: 0.7988 - val_loss: 0.5391\n",
            "Epoch 70/100\n",
            "\u001b[1m41/41\u001b[0m \u001b[32m━━━━━━━━━━━━━━━━━━━━\u001b[0m\u001b[37m\u001b[0m \u001b[1m0s\u001b[0m 3ms/step - accuracy: 0.9001 - loss: 0.3005 - val_accuracy: 0.8110 - val_loss: 0.5595\n",
            "Epoch 71/100\n",
            "\u001b[1m41/41\u001b[0m \u001b[32m━━━━━━━━━━━━━━━━━━━━\u001b[0m\u001b[37m\u001b[0m \u001b[1m0s\u001b[0m 3ms/step - accuracy: 0.8934 - loss: 0.3040 - val_accuracy: 0.7988 - val_loss: 0.5732\n",
            "Epoch 72/100\n",
            "\u001b[1m41/41\u001b[0m \u001b[32m━━━━━━━━━━━━━━━━━━━━\u001b[0m\u001b[37m\u001b[0m \u001b[1m0s\u001b[0m 3ms/step - accuracy: 0.9034 - loss: 0.2584 - val_accuracy: 0.8049 - val_loss: 0.5864\n",
            "Epoch 73/100\n",
            "\u001b[1m41/41\u001b[0m \u001b[32m━━━━━━━━━━━━━━━━━━━━\u001b[0m\u001b[37m\u001b[0m \u001b[1m0s\u001b[0m 3ms/step - accuracy: 0.8947 - loss: 0.3254 - val_accuracy: 0.7988 - val_loss: 0.5688\n",
            "Epoch 74/100\n",
            "\u001b[1m41/41\u001b[0m \u001b[32m━━━━━━━━━━━━━━━━━━━━\u001b[0m\u001b[37m\u001b[0m \u001b[1m0s\u001b[0m 3ms/step - accuracy: 0.9018 - loss: 0.2926 - val_accuracy: 0.7927 - val_loss: 0.5848\n",
            "Epoch 75/100\n",
            "\u001b[1m41/41\u001b[0m \u001b[32m━━━━━━━━━━━━━━━━━━━━\u001b[0m\u001b[37m\u001b[0m \u001b[1m0s\u001b[0m 3ms/step - accuracy: 0.8989 - loss: 0.2985 - val_accuracy: 0.7927 - val_loss: 0.5972\n",
            "Epoch 76/100\n",
            "\u001b[1m41/41\u001b[0m \u001b[32m━━━━━━━━━━━━━━━━━━━━\u001b[0m\u001b[37m\u001b[0m \u001b[1m0s\u001b[0m 3ms/step - accuracy: 0.8976 - loss: 0.2954 - val_accuracy: 0.7866 - val_loss: 0.5785\n",
            "Epoch 77/100\n",
            "\u001b[1m41/41\u001b[0m \u001b[32m━━━━━━━━━━━━━━━━━━━━\u001b[0m\u001b[37m\u001b[0m \u001b[1m0s\u001b[0m 3ms/step - accuracy: 0.8994 - loss: 0.3186 - val_accuracy: 0.8171 - val_loss: 0.5663\n",
            "Epoch 78/100\n",
            "\u001b[1m41/41\u001b[0m \u001b[32m━━━━━━━━━━━━━━━━━━━━\u001b[0m\u001b[37m\u001b[0m \u001b[1m0s\u001b[0m 3ms/step - accuracy: 0.9096 - loss: 0.2938 - val_accuracy: 0.7927 - val_loss: 0.5896\n",
            "Epoch 79/100\n",
            "\u001b[1m41/41\u001b[0m \u001b[32m━━━━━━━━━━━━━━━━━━━━\u001b[0m\u001b[37m\u001b[0m \u001b[1m0s\u001b[0m 3ms/step - accuracy: 0.8809 - loss: 0.2979 - val_accuracy: 0.8171 - val_loss: 0.5781\n",
            "Epoch 80/100\n",
            "\u001b[1m41/41\u001b[0m \u001b[32m━━━━━━━━━━━━━━━━━━━━\u001b[0m\u001b[37m\u001b[0m \u001b[1m0s\u001b[0m 4ms/step - accuracy: 0.8875 - loss: 0.2945 - val_accuracy: 0.8110 - val_loss: 0.5485\n",
            "Epoch 81/100\n",
            "\u001b[1m41/41\u001b[0m \u001b[32m━━━━━━━━━━━━━━━━━━━━\u001b[0m\u001b[37m\u001b[0m \u001b[1m0s\u001b[0m 3ms/step - accuracy: 0.9189 - loss: 0.2401 - val_accuracy: 0.8110 - val_loss: 0.5619\n",
            "Epoch 82/100\n",
            "\u001b[1m41/41\u001b[0m \u001b[32m━━━━━━━━━━━━━━━━━━━━\u001b[0m\u001b[37m\u001b[0m \u001b[1m0s\u001b[0m 3ms/step - accuracy: 0.9266 - loss: 0.2772 - val_accuracy: 0.7988 - val_loss: 0.5548\n",
            "Epoch 83/100\n",
            "\u001b[1m41/41\u001b[0m \u001b[32m━━━━━━━━━━━━━━━━━━━━\u001b[0m\u001b[37m\u001b[0m \u001b[1m0s\u001b[0m 3ms/step - accuracy: 0.9217 - loss: 0.2460 - val_accuracy: 0.7988 - val_loss: 0.5614\n",
            "Epoch 84/100\n",
            "\u001b[1m41/41\u001b[0m \u001b[32m━━━━━━━━━━━━━━━━━━━━\u001b[0m\u001b[37m\u001b[0m \u001b[1m0s\u001b[0m 3ms/step - accuracy: 0.8933 - loss: 0.2815 - val_accuracy: 0.8232 - val_loss: 0.5685\n",
            "Epoch 85/100\n",
            "\u001b[1m41/41\u001b[0m \u001b[32m━━━━━━━━━━━━━━━━━━━━\u001b[0m\u001b[37m\u001b[0m \u001b[1m0s\u001b[0m 3ms/step - accuracy: 0.9065 - loss: 0.2776 - val_accuracy: 0.8232 - val_loss: 0.5705\n",
            "Epoch 86/100\n",
            "\u001b[1m41/41\u001b[0m \u001b[32m━━━━━━━━━━━━━━━━━━━━\u001b[0m\u001b[37m\u001b[0m \u001b[1m0s\u001b[0m 3ms/step - accuracy: 0.8826 - loss: 0.3303 - val_accuracy: 0.8171 - val_loss: 0.5926\n",
            "Epoch 87/100\n",
            "\u001b[1m41/41\u001b[0m \u001b[32m━━━━━━━━━━━━━━━━━━━━\u001b[0m\u001b[37m\u001b[0m \u001b[1m0s\u001b[0m 3ms/step - accuracy: 0.8946 - loss: 0.2831 - val_accuracy: 0.8232 - val_loss: 0.5724\n",
            "Epoch 88/100\n",
            "\u001b[1m41/41\u001b[0m \u001b[32m━━━━━━━━━━━━━━━━━━━━\u001b[0m\u001b[37m\u001b[0m \u001b[1m0s\u001b[0m 3ms/step - accuracy: 0.9194 - loss: 0.2713 - val_accuracy: 0.8049 - val_loss: 0.5630\n",
            "Epoch 89/100\n",
            "\u001b[1m41/41\u001b[0m \u001b[32m━━━━━━━━━━━━━━━━━━━━\u001b[0m\u001b[37m\u001b[0m \u001b[1m0s\u001b[0m 3ms/step - accuracy: 0.9091 - loss: 0.2600 - val_accuracy: 0.8049 - val_loss: 0.5754\n",
            "Epoch 90/100\n",
            "\u001b[1m41/41\u001b[0m \u001b[32m━━━━━━━━━━━━━━━━━━━━\u001b[0m\u001b[37m\u001b[0m \u001b[1m0s\u001b[0m 3ms/step - accuracy: 0.8862 - loss: 0.3049 - val_accuracy: 0.8049 - val_loss: 0.5699\n",
            "Epoch 91/100\n",
            "\u001b[1m41/41\u001b[0m \u001b[32m━━━━━━━━━━━━━━━━━━━━\u001b[0m\u001b[37m\u001b[0m \u001b[1m0s\u001b[0m 3ms/step - accuracy: 0.8970 - loss: 0.2793 - val_accuracy: 0.8049 - val_loss: 0.5644\n",
            "Epoch 92/100\n",
            "\u001b[1m41/41\u001b[0m \u001b[32m━━━━━━━━━━━━━━━━━━━━\u001b[0m\u001b[37m\u001b[0m \u001b[1m0s\u001b[0m 3ms/step - accuracy: 0.9239 - loss: 0.2454 - val_accuracy: 0.8049 - val_loss: 0.5845\n",
            "Epoch 93/100\n",
            "\u001b[1m41/41\u001b[0m \u001b[32m━━━━━━━━━━━━━━━━━━━━\u001b[0m\u001b[37m\u001b[0m \u001b[1m0s\u001b[0m 3ms/step - accuracy: 0.9112 - loss: 0.2853 - val_accuracy: 0.8049 - val_loss: 0.5906\n",
            "Epoch 94/100\n",
            "\u001b[1m41/41\u001b[0m \u001b[32m━━━━━━━━━━━━━━━━━━━━\u001b[0m\u001b[37m\u001b[0m \u001b[1m0s\u001b[0m 3ms/step - accuracy: 0.8897 - loss: 0.2775 - val_accuracy: 0.7927 - val_loss: 0.5825\n",
            "Epoch 95/100\n",
            "\u001b[1m41/41\u001b[0m \u001b[32m━━━━━━━━━━━━━━━━━━━━\u001b[0m\u001b[37m\u001b[0m \u001b[1m0s\u001b[0m 3ms/step - accuracy: 0.9471 - loss: 0.2302 - val_accuracy: 0.7927 - val_loss: 0.5959\n",
            "Epoch 96/100\n",
            "\u001b[1m41/41\u001b[0m \u001b[32m━━━━━━━━━━━━━━━━━━━━\u001b[0m\u001b[37m\u001b[0m \u001b[1m0s\u001b[0m 3ms/step - accuracy: 0.9280 - loss: 0.2382 - val_accuracy: 0.8049 - val_loss: 0.6219\n",
            "Epoch 97/100\n",
            "\u001b[1m41/41\u001b[0m \u001b[32m━━━━━━━━━━━━━━━━━━━━\u001b[0m\u001b[37m\u001b[0m \u001b[1m0s\u001b[0m 3ms/step - accuracy: 0.9066 - loss: 0.2675 - val_accuracy: 0.8232 - val_loss: 0.5867\n",
            "Epoch 98/100\n",
            "\u001b[1m41/41\u001b[0m \u001b[32m━━━━━━━━━━━━━━━━━━━━\u001b[0m\u001b[37m\u001b[0m \u001b[1m0s\u001b[0m 3ms/step - accuracy: 0.8995 - loss: 0.2409 - val_accuracy: 0.8110 - val_loss: 0.5787\n",
            "Epoch 99/100\n",
            "\u001b[1m41/41\u001b[0m \u001b[32m━━━━━━━━━━━━━━━━━━━━\u001b[0m\u001b[37m\u001b[0m \u001b[1m0s\u001b[0m 3ms/step - accuracy: 0.9084 - loss: 0.2686 - val_accuracy: 0.8049 - val_loss: 0.5939\n",
            "Epoch 100/100\n",
            "\u001b[1m41/41\u001b[0m \u001b[32m━━━━━━━━━━━━━━━━━━━━\u001b[0m\u001b[37m\u001b[0m \u001b[1m0s\u001b[0m 3ms/step - accuracy: 0.9180 - loss: 0.2848 - val_accuracy: 0.7927 - val_loss: 0.6219\n"
          ]
        }
      ]
    },
    {
      "cell_type": "markdown",
      "source": [
        "# Evaluation"
      ],
      "metadata": {
        "id": "KCa52L6sc0T2"
      }
    },
    {
      "cell_type": "code",
      "source": [
        "# Predict on test set\n",
        "# The predict statement produces a boolean value that is converted into Numerical data using the astype()\n",
        "y_pred_fold = (model.predict(X_val_fold) > 0.5).astype('int32')"
      ],
      "metadata": {
        "colab": {
          "base_uri": "https://localhost:8080/"
        },
        "id": "ZreoXEDORllW",
        "outputId": "0f4a7630-a8c0-43f6-a139-4279b16eff57"
      },
      "execution_count": 14,
      "outputs": [
        {
          "output_type": "stream",
          "name": "stdout",
          "text": [
            "\u001b[1m13/13\u001b[0m \u001b[32m━━━━━━━━━━━━━━━━━━━━\u001b[0m\u001b[37m\u001b[0m \u001b[1m0s\u001b[0m 8ms/step\n"
          ]
        }
      ]
    },
    {
      "cell_type": "code",
      "source": [
        "# Accuracy\n",
        "accuracy = accuracy_score(y_val_fold, y_pred_fold)\n",
        "print(f\"Accuracy: {accuracy * 100:.2f}%\")"
      ],
      "metadata": {
        "colab": {
          "base_uri": "https://localhost:8080/"
        },
        "id": "HAJrj6-gRngV",
        "outputId": "435b646c-b094-48e9-de58-422618130fa3"
      },
      "execution_count": 15,
      "outputs": [
        {
          "output_type": "stream",
          "name": "stdout",
          "text": [
            "Accuracy: 82.15%\n"
          ]
        }
      ]
    },
    {
      "cell_type": "code",
      "source": [
        "# Confusion matrix\n",
        "print(\"\\nConfusion Matrix:\\n\", confusion_matrix(y_val_fold, y_pred_fold))"
      ],
      "metadata": {
        "colab": {
          "base_uri": "https://localhost:8080/"
        },
        "id": "74TW4dqDR0Sx",
        "outputId": "a20eeaff-b51b-4b94-f9fb-f06bff4c32a0"
      },
      "execution_count": 16,
      "outputs": [
        {
          "output_type": "stream",
          "name": "stdout",
          "text": [
            "\n",
            "Confusion Matrix:\n",
            " [[230  32]\n",
            " [ 41 106]]\n"
          ]
        }
      ]
    },
    {
      "cell_type": "code",
      "source": [
        "# Classification report\n",
        "print(\"\\nClassification Report:\\n\", classification_report(y_val_fold, y_pred_fold))"
      ],
      "metadata": {
        "colab": {
          "base_uri": "https://localhost:8080/"
        },
        "id": "sLJCGr3XR2B4",
        "outputId": "0ef334da-0767-42e3-8476-d247d461f80c"
      },
      "execution_count": 17,
      "outputs": [
        {
          "output_type": "stream",
          "name": "stdout",
          "text": [
            "\n",
            "Classification Report:\n",
            "               precision    recall  f1-score   support\n",
            "\n",
            "           0       0.85      0.88      0.86       262\n",
            "           1       0.77      0.72      0.74       147\n",
            "\n",
            "    accuracy                           0.82       409\n",
            "   macro avg       0.81      0.80      0.80       409\n",
            "weighted avg       0.82      0.82      0.82       409\n",
            "\n"
          ]
        }
      ]
    },
    {
      "cell_type": "markdown",
      "source": [
        "#New Patient"
      ],
      "metadata": {
        "id": "mgQFp-y8OREi"
      }
    },
    {
      "cell_type": "code",
      "source": [
        "# Predict whether the new patient has Osterioporosis\n",
        "\n",
        "def predict_new(patient_data):\n",
        "    \"\"\"\n",
        "    Predict if a new patient has osteoporosis using the trained neural network model.\n",
        "    Args:\n",
        "        patient_data: Data with the same number of features as the model input.\n",
        "    Returns:\n",
        "        0 = No Osteoporosis or 1 = Osteoporosis\n",
        "    \"\"\"\n",
        "    patient_scaled = scaler.transform([patient_data])  # Scale the data\n",
        "    prediction = (model.predict(patient_scaled) > 0.5).astype('int32')  # Predict\n",
        "    print(prediction)\n",
        "    return prediction[0][0]"
      ],
      "metadata": {
        "id": "fiBHj8h6R_-f"
      },
      "execution_count": 18,
      "outputs": []
    },
    {
      "cell_type": "code",
      "source": [
        "#Getting the input from the user using Try and Except method\n",
        "def get_patient():\n",
        "    while True:  # Input validation loop\n",
        "        try:\n",
        "            gender = int(input(\"Gender (1 for Female, 2 for Male): \"))\n",
        "            if gender not in (1, 2):\n",
        "                raise ValueError\n",
        "            age = int(input(\"Age: \"))\n",
        "            height = float(input(\"Height (in cm): \"))\n",
        "            weight = float(input(\"Weight (in kg): \"))\n",
        "            bmi = weight/((height/100)**2)\n",
        "            l1_4 = float(input(\"L1-4: \"))\n",
        "            l1_4t = float(input(\"L1.4T: \"))\n",
        "            fn = float(input(\"FN: \"))\n",
        "            fnt = float(input(\"FNT: \"))\n",
        "            tl = float(input(\"TL: \"))\n",
        "            tlt = float(input(\"TLT: \"))\n",
        "            alt = float(input(\"ALT: \"))\n",
        "            ast = float(input(\"AST: \"))\n",
        "            bun = float(input(\"BUN: \"))\n",
        "            crea = float(input(\"CREA: \"))\n",
        "            uric = float(input(\"URIC: \"))\n",
        "            fbg = float(input(\"FBG: \"))\n",
        "            hdl_c = float(input(\"HDL-C: \"))\n",
        "            ldl_c = float(input(\"LDL-C: \"))\n",
        "            ca = float(input(\"Ca: \"))\n",
        "            p = float(input(\"P: \"))\n",
        "            mg = float(input(\"Mg: \"))\n",
        "            calsium = float(input(\"Calsium (duplicate column, please check your data): \"))\n",
        "            calcitriol = float(input(\"Calcitriol: \"))\n",
        "            bisphosphonate = int(input(\"Bisphosphonate use (0 for No, 1 for Yes): \"))\n",
        "            if bisphosphonate not in (0, 1):\n",
        "                raise ValueError\n",
        "            calcitonin = int(input(\"Calcitonin use (0 for No, 1 for Yes): \"))\n",
        "            if calcitonin not in (0, 1):\n",
        "                raise ValueError\n",
        "            htn = int(input(\"Hypertension (0 for No, 1 for Yes): \"))\n",
        "            if htn not in (0, 1):\n",
        "                raise ValueError\n",
        "            copd = int(input(\"COPD (0 for No, 1 for Yes): \"))\n",
        "            if copd not in (0, 1):\n",
        "                raise ValueError\n",
        "            dm = int(input(\"DM (0 for No, 1 for Yes): \"))\n",
        "            if dm not in (0, 1):\n",
        "                raise ValueError\n",
        "            hyperlipidaemia = int(input(\"Hyperlipidaemia (0 for No, 1 for Yes): \"))\n",
        "            if hyperlipidaemia not in (0, 1):\n",
        "                raise ValueError\n",
        "            hyperuricemia = int(input(\"Hyperuricemia (0 for No, 1 for Yes): \"))\n",
        "            if hyperuricemia not in (0, 1):\n",
        "                raise ValueError\n",
        "            as_val = int(input(\"AS (0 for No, 1 for Yes): \"))\n",
        "            if as_val not in (0, 1):\n",
        "                raise ValueError\n",
        "            vt = int(input(\"VT (0 for No, 1 for Yes): \"))\n",
        "            if vt not in (0, 1):\n",
        "                raise ValueError\n",
        "            vd = int(input(\"VD (0 for No, 1 for Yes): \"))\n",
        "            if vd not in (0, 1):\n",
        "                raise ValueError\n",
        "            cad = int(input(\"CAD (0 for No, 1 for Yes): \"))\n",
        "            if cad not in (0, 1):\n",
        "                raise ValueError\n",
        "            ckd = int(input(\"CKD (0 for No, 1 for Yes): \"))\n",
        "            if ckd not in (0, 1):\n",
        "                raise ValueError\n",
        "            fracture = int(input(\"Fracture (0 for No, 1 for Yes): \"))\n",
        "            if fracture not in (0, 1):\n",
        "                raise ValueError\n",
        "            smoking = int(input(\"Smoking (0 for No, 1 for Yes): \"))\n",
        "            if smoking not in (0, 1):\n",
        "                raise ValueError\n",
        "            drinking = int(input(\"Drinking (0 for No, 1 for Yes): \"))\n",
        "            if drinking not in (0, 1):\n",
        "                raise ValueError\n",
        "\n",
        "            break # Exit loop if input is valid\n",
        "\n",
        "        except ValueError:\n",
        "            print(\"Invalid input. Please enter a valid number.\")\n",
        "        except Exception as e: # Catch other errors\n",
        "            print(f\"An error occurred: {e}\")\n",
        "\n",
        "    patient_data = [gender, age, height, weight, bmi, l1_4, l1_4t, fn, fnt, tl, tlt, alt, ast, bun, crea, uric, fbg, hdl_c, ldl_c, ca, p, mg, calsium, calcitriol, bisphosphonate, calcitonin, htn, copd, dm, hyperlipidaemia, hyperuricemia, as_val, vt, vd, cad, ckd, fracture, smoking, drinking]\n",
        "    return patient_data"
      ],
      "metadata": {
        "id": "gbOUPDCdKu5x"
      },
      "execution_count": 19,
      "outputs": []
    },
    {
      "cell_type": "code",
      "source": [
        "# Sample patient data\n",
        "patient = [\n",
        "    1,      # Gender (1 = Male, 2 = Female)\n",
        "    55,     # Age (in years)\n",
        "    160,    # Height (in cm)\n",
        "    65,     # Weight (in kg)\n",
        "    25.39,   #BMI\n",
        "    0.85,   # L1-4 (Bone density measure)\n",
        "    0.77,   # L1.4T (Bone density measure)\n",
        "    0.9,    # FN (Bone density measure)\n",
        "    0.85,   # FNT (Bone density measure)\n",
        "    0.7,    # TL (Bone density measure)\n",
        "    0.72,   # TLT (Bone density measure)\n",
        "    0.85,   # ALT (Alanine Transaminase level)\n",
        "    1.2,    # AST (Aspartate Transaminase level)\n",
        "    15.0,   # BUN (Blood Urea Nitrogen level)\n",
        "    0.85,   # CREA (Creatinine level)\n",
        "    5.6,    # URIC (Uric acid level)\n",
        "    95,     # FBG (Fasting Blood Glucose level)\n",
        "    45,     # HDL-C (High-Density Lipoprotein Cholesterol)\n",
        "    120,    # LDL-C (Low-Density Lipoprotein Cholesterol)\n",
        "    9.5,    # Ca (Calcium level)\n",
        "    3.9,    # P (Phosphorus level)\n",
        "    2.1,    # Mg (Magnesium level)\n",
        "    9.0,    # Calcium (level)\n",
        "    32.0,   # Calcitriol (Vitamin D3 level)\n",
        "    1,      # Bisphosphonate (1 = Yes, 0 = No)\n",
        "    0,      # Calcitonin (1 = Yes, 0 = No)\n",
        "    1,      # HTN (Hypertension, 1 = Yes, 0 = No)\n",
        "    0,      # COPD (Chronic Obstructive Pulmonary Disease, 1 = Yes, 0 = No)\n",
        "    0,      # DM (Diabetes Mellitus, 1 = Yes, 0 = No)\n",
        "    1,      # Hyperlipidemia (1 = Yes, 0 = No)\n",
        "    0,      # Hyperuricemia (1 = Yes, 0 = No)\n",
        "    0,      # AS (Aortic Stenosis, 1 = Yes, 0 = No)\n",
        "    0,      # VT (Ventricular Tachycardia, 1 = Yes, 0 = No)\n",
        "    0,      # VD (Valvular Disease, 1 = Yes, 0 = No)\n",
        "    1,      # CAD (Coronary Artery Disease, 1 = Yes, 0 = No)\n",
        "    0,      # CKD (Chronic Kidney Disease, 1 = Yes, 0 = No)\n",
        "    1,      # Fracture (1 = Yes, 0 = No)\n",
        "    0,      # Smoking (1 = Yes, 0 = No)\n",
        "    1      # Drinking (1 = Yes, 0 = No)\n",
        "    #1        OP (Osteoporosis, 1 = Yes, 0 = No) — This is usually the target variable, not used as an input\n",
        "]\n"
      ],
      "metadata": {
        "id": "y1na8sjmNNul"
      },
      "execution_count": 20,
      "outputs": []
    },
    {
      "cell_type": "code",
      "source": [
        "patient=[1, 68, 165, 70, 25.7, 0.92, 0.89, 0.81, 0.78, 0.85, 0.81, 38, 30, 16, 0.8, 5.5, 105, 42, 115, 9.7, 3.4, 2.1, 9.8, 32, 0, 1, 1, 0, 0, 1, 0, 0, 1, 0, 0, 0, 0, 1,0]"
      ],
      "metadata": {
        "id": "0Z-1kEQKUNr9"
      },
      "execution_count": 21,
      "outputs": []
    },
    {
      "cell_type": "code",
      "source": [
        "# Diagnoising the patient based on his reports and finding the probability\n",
        "\n",
        "#patient=get_patient()\n",
        "print(\"Prediction for new patient for Osteoporosis:\")\n",
        "\n",
        "a=\"Positive\" if predict_new(patient)==1 else \"Negative\"\n",
        "print(f\"You have {accuracy * 100:.2f}% chance that the result is {a}\" )\n"
      ],
      "metadata": {
        "colab": {
          "base_uri": "https://localhost:8080/"
        },
        "id": "mMQpEjGuSCcz",
        "outputId": "0b329a81-9eca-4faa-9029-0b11c531597f"
      },
      "execution_count": 23,
      "outputs": [
        {
          "output_type": "stream",
          "name": "stdout",
          "text": [
            "Prediction for new patient for Osteoporosis:\n",
            "\u001b[1m1/1\u001b[0m \u001b[32m━━━━━━━━━━━━━━━━━━━━\u001b[0m\u001b[37m\u001b[0m \u001b[1m0s\u001b[0m 36ms/step\n",
            "[[1]]\n",
            "You have 82.15% chance that the result is Positive\n"
          ]
        },
        {
          "output_type": "stream",
          "name": "stderr",
          "text": [
            "/usr/local/lib/python3.10/dist-packages/sklearn/base.py:493: UserWarning: X does not have valid feature names, but StandardScaler was fitted with feature names\n",
            "  warnings.warn(\n"
          ]
        }
      ]
    }
  ]
}